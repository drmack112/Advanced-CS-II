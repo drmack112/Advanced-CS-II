{
 "cells": [
  {
   "cell_type": "markdown",
   "metadata": {},
   "source": [
    "# Example: Grouping"
   ]
  },
  {
   "cell_type": "code",
   "execution_count": null,
   "metadata": {},
   "outputs": [],
   "source": [
    "import pandas as pd\n",
    "\n",
    "df = pd.read_csv (r\"data.csv\")\n",
    "pd.set_option(\"display.max_columns\", None)\n",
    "df.drop_duplicates(inplace=True)\n",
    "\n",
    "# Displays the count for the first 10 publishers\n",
    "print(\"Count\")\n",
    "print(\"------------------------\")\n",
    "print(df.groupby(\"publisher\").publisher.count().head(10))\n",
    "\n",
    "# Displays the maximum price and rating for the first 10 publishers\n",
    "print()\n",
    "print()\n",
    "print(\"Maximum\")\n",
    "print(\"------------------------\")\n",
    "print(df.groupby(\"publisher\")[[\"price\", \"rating\"]].max().head(10))\n",
    "\n",
    "# Displays the min, max and sum of the values in the price column for the first 10 publishers\n",
    "print()\n",
    "print()\n",
    "print(\"Aggregate (Min, Max, Sum)\")\n",
    "print(\"------------------------\")\n",
    "print(df.groupby(\"publisher\").price.agg([min, max, sum]).head(10))\n",
    "\n",
    "# Displays the sorted list of values in the price column for the last 3 publishers\n",
    "print()\n",
    "print()\n",
    "print(\"Sorted List\")\n",
    "print(\"------------------------\")\n",
    "print(df.groupby(\"publisher\").price.agg([sorted]).tail(4))"
   ]
  },
  {
   "cell_type": "markdown",
   "metadata": {},
   "source": [
    "# Example: Sorting"
   ]
  },
  {
   "cell_type": "code",
   "execution_count": null,
   "metadata": {},
   "outputs": [],
   "source": [
    "import pandas as pd\n",
    "\n",
    "df = pd.read_csv (r\"data.csv\")\n",
    "pd.set_option(\"display.max_columns\", None)\n",
    "df.drop_duplicates(inplace=True)\n",
    "\n",
    "# Sorts page_count values (increasing)\n",
    "print(\"Page Counts (Ascending)\")\n",
    "print(\"------------------------\")\n",
    "print(df[[\"title\", \"page_count\"]].sort_values(by=\"page_count\").head())\n",
    "\n",
    "# Sorts page_count values (decreasing)\n",
    "print()\n",
    "print()\n",
    "print(\"Page Counts (Ascending = False)\")\n",
    "print(\"------------------------\")\n",
    "print(df[[\"title\", \"page_count\"]].sort_values(by=\"page_count\", ascending=False).head())\n",
    "\n",
    "# Sorts by the rating (decreasing) and then by the author (alphabetically)\n",
    "print()\n",
    "print()\n",
    "print(\"Highest Rated Authors (Alphabeticaly)\")\n",
    "print(\"------------------------\")\n",
    "print()\n",
    "print(df[[\"author\", \"rating\"]].sort_values(by=[\"rating\", \"author\"], ascending=[False, True]).head())\n",
    "\n"
   ]
  },
  {
   "cell_type": "markdown",
   "metadata": {},
   "source": [
    "# Problem 1 - Billionaire Sort\n",
    "\n",
    "Using the Billionaires dataset, complete the following tasks:\n",
    "\n",
    "1. Group the dataset by gender. Only display the gender count. What insights does this grouping give you?\n",
    "\n",
    "2. Group the dataset by industry. Only display the industry count. What insights does this grouping give you?\n",
    "\n",
    "3. Sort the billionaires by age. You will want the youngest person to be listed first. Only print the name and age columns. Only print the first five rows.\n",
    "\n",
    "4. Sort by net worth. You will want the person with the highest net worth to be listed first. Only print the name and net_worth columns. Only print the first five rows.\n",
    "\n",
    "5. Sort by age and then net worth. You will want the oldest person to be listed first. If there are two people with the same age, you’ll want the person with the highest net worth to be listed first. Only print the name, age, and net_worth columns. Only print the first TEN rows."
   ]
  },
  {
   "cell_type": "code",
   "execution_count": null,
   "metadata": {},
   "outputs": [],
   "source": [
    "import pandas as pd\n",
    "\n",
    "df = pd.read_csv (r\"billionaire.csv\")\n",
    "pd.set_option(\"display.max_columns\", None)\n",
    "\n",
    "# Group results by gender \n",
    "# What insights does this grouping give you?\n",
    "print(\"Grouped by Gender\")\n",
    "print(\"------------------------\")\n",
    "\n",
    "\n",
    "# Group results by industry \n",
    "# What insights does this grouping give you?\n",
    "print()\n",
    "print()\n",
    "print(\"Grouped by Industry\")\n",
    "print(\"------------------------\")\n",
    "\n",
    "\n",
    "# Sort by age (increasing)\n",
    "print()\n",
    "print()\n",
    "print(\"Age (Ascending)\")\n",
    "print(\"------------------------\")\n",
    "\n",
    "\n",
    "# Sort by net_worth (decreasing)\n",
    "print()\n",
    "print()\n",
    "print(\"Net Worth (Ascending = False)\")\n",
    "print(\"------------------------\")\n",
    "\n",
    "\n",
    "# Sort by age (descreasing) and then net_worth (decreasing)\n",
    "print()\n",
    "print()\n",
    "print(\"Age and Net Worth (Ascending = False)\")\n",
    "print(\"------------------------\")\n"
   ]
  },
  {
   "cell_type": "markdown",
   "metadata": {},
   "source": [
    "# Problem 2 - Sorting Cereal\n",
    "\n",
    "Using the cereal production dataset, complete the following tasks:\n",
    "\n",
    "1. Sort the countries by using the 1990 cereal production values. You will want the highest production values to be listed first. Only print the Country Name and 1990 columns. Only print the first five rows.\n",
    "\n",
    "2. Let’s determine who would get the “Most Improved” award for a ten-year span.\n",
    "\n",
    "    - Create a function that will return the difference between two years’ values.\n",
    "\n",
    "    - Create a new column listing the growth from the year 1990 to the year 2000.\n",
    "\n",
    "    - Sort by your new column. You will want the highest growth values to be listed first. Only print the Country Name and the new growth columns. Only print the first five rows.\n",
    "\n",
    "3. Let’s compare growth!\n",
    "\n",
    "    - Again, sort the 1990 cereal production values as you did earlier, only this time add in the new growth column.\n",
    "\n",
    "    - How does the growth of the highest producing countries compare with the others? What might this tell you?"
   ]
  },
  {
   "cell_type": "code",
   "execution_count": null,
   "metadata": {},
   "outputs": [],
   "source": [
    "import pandas as pd\n",
    "\n",
    "df = pd.read_csv (r\"data.csv\")\n",
    "pd.set_option(\"display.max_columns\", None)\n",
    "df.drop_duplicates(inplace=True)\n",
    "\n",
    "# Sort countries by using the 1990 cereal production values (increasing)\n",
    "print(\"1990 Cereal Production (Ascending)\")\n",
    "print(\"------------------------\")\n",
    "\n",
    "\n",
    "# Create a function that will return the difference between two years values\n",
    "\n",
    "\n",
    "# Create a new column listing the growth from year 1990 to year 2000    \n",
    "\n",
    "\n",
    "# Sort by the growth of production from year 1990 to 2000 (increasing)\n",
    "print()\n",
    "print()\n",
    "print(\"Highest growth from 1990 to 2000\")\n",
    "print(\"------------------------\")\n",
    "\n",
    "\n",
    "# Sort the 1990 cereal production values (increasing) and also list the growth from 1990 to 2000 (not sorted)\n",
    "print()\n",
    "print()\n",
    "print(\"Ten year growth of highest 1990 production\")\n",
    "print(\"------------------------\")\n"
   ]
  },
  {
   "cell_type": "markdown",
   "metadata": {},
   "source": [
    "# Data Privacy\n",
    "## How difficult is it to read and understand website and app privacy policies?\n",
    "This graph, which shows the reading level and time (in minutes) required to read internet privacy policies for 150 popular websites and apps plus a few books, appeared elsewhere on NYTimes.com.\n",
    "\n",
    "After looking closely at the graph, think about the three questions below. The questions are intended to build on one another, so try to answer them in order. Start with “I notice,” then “I wonder,” and end with a catchy headline.\n",
    "\n",
    "1. What do you notice? If you make a claim, tell us what you noticed that supports your claim.\n",
    "\n",
    "2. What do you wonder? What are you curious about that comes from what you notice in the graph?\n",
    "\n",
    "3. What’s going on in this graph? Write a catchy headline that captures the graph’s main idea.\n",
    "\n",
    "Source: Network, The Learning. “What’s Going On in This Graph? | Internet Privacy Policies.” The New York Times, The New York Times, 2 Jan. 2020, [https://www.nytimes.com/2020/01/02/learning/whats-going-on-in-this-graph-internet-privacy-policies.html](https://www.nytimes.com/2020/01/02/learning/whats-going-on-in-this-graph-internet-privacy-policies.html)."
   ]
  },
  {
   "cell_type": "code",
   "execution_count": null,
   "metadata": {},
   "outputs": [],
   "source": [
    "#answers go here"
   ]
  },
  {
   "cell_type": "markdown",
   "metadata": {},
   "source": [
    "# What is Data Aggregation?\n",
    "Read the following article while considering the following questions.\n",
    "\n",
    "1. Why is data aggregation necessary?\n",
    "\n",
    "2. How can data aggregation be helpful for businesses?\n",
    "\n",
    "3. For your project, what industry are you going to explore? Jot down ways that data aggregation may help you discover trends and make changes?\n",
    "\n",
    "Source:\n",
    "Import.io. “What Is Data Aggregation? Examples of Data Aggregation by Industry.” Import.io, 22 Oct. 2019, [https://www.import.io/post/what-is-data-aggregation-industry-examples/](https://www.import.io/post/what-is-data-aggregation-industry-examples/)."
   ]
  },
  {
   "cell_type": "code",
   "execution_count": null,
   "metadata": {},
   "outputs": [],
   "source": [
    "#answer goes here"
   ]
  }
 ],
 "metadata": {
  "language_info": {
   "name": "python"
  },
  "orig_nbformat": 4
 },
 "nbformat": 4,
 "nbformat_minor": 2
}
