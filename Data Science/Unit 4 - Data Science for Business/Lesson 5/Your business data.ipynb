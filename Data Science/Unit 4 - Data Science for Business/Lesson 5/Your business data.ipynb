{
 "cells": [
  {
   "cell_type": "markdown",
   "metadata": {},
   "source": [
    "# Gather and Combine Your Data\n",
    "## Your Task\n",
    "Gather and combine at least two datasets from different sources. As a reminder, here are your choices:\n",
    "\n",
    "- Choose a current company and use real data.\n",
    "- Create a fake company and use randomized data.\n",
    "- Choose a nonprofit company and use a mixture of real data and randomized data.\n",
    "You can combine two (or more) datasets to show a comparison between two companies.\n",
    "\n",
    "Or, you can choose two (or more) datasets that offer different information in each one for a more complete picture.\n",
    "\n",
    "**Checkpoint**: Start working on the Introduction section of your Business Proposal. Why are you searching and collecting this specific data? What is the purpose of the study?\n",
    "\n",
    "Here are some ideas to help you get started:\n",
    "\n",
    "- Forecast company sales on a major holiday\n",
    "- Optimize the product price for the company\n",
    "- Categorize customers based on different criteria such as demography, location, and buying behavior.\n",
    "- How do social media posts (or any type of marketing) affect sales?"
   ]
  },
  {
   "cell_type": "code",
   "execution_count": null,
   "metadata": {},
   "outputs": [],
   "source": [
    "#noice"
   ]
  },
  {
   "cell_type": "markdown",
   "metadata": {},
   "source": [
    "# Problem 1 - Your Data Quality\n",
    "\n",
    "In this activity, import or upload your datasets and check the quality.\n",
    "\n",
    "- What’s the mean number of null values in each column?\n",
    "- What’s the percentage of null values in the whole dataset?\n",
    "- How many duplicated rows are there?\n",
    "- Should you check for any FuzzyWuzzy values?"
   ]
  },
  {
   "cell_type": "code",
   "execution_count": null,
   "metadata": {},
   "outputs": [],
   "source": [
    "import pandas as pd"
   ]
  },
  {
   "cell_type": "markdown",
   "metadata": {},
   "source": [
    "# Problem 2 - Combining Your Datasets\n",
    "\n",
    "In this activity, explore different ways of combining your datasets.\n",
    "\n",
    "Do any of the columns have to be dropped or renamed?\n",
    "Should they be concatenated or joined?"
   ]
  },
  {
   "cell_type": "code",
   "execution_count": null,
   "metadata": {},
   "outputs": [],
   "source": [
    "import pandas as pd"
   ]
  },
  {
   "cell_type": "markdown",
   "metadata": {},
   "source": [
    "# Problem 3 - Sorting Your Data\n",
    "\n",
    "In this activity, explore different ways of grouping and sorting your data.\n",
    "\n",
    "What are you trying to accomplish with the data?\n",
    "Which groupings or sorting would be most helpful?"
   ]
  },
  {
   "cell_type": "code",
   "execution_count": null,
   "metadata": {},
   "outputs": [],
   "source": [
    "import pandas as pd"
   ]
  },
  {
   "cell_type": "markdown",
   "metadata": {},
   "source": [
    "# Problem 4 - Clean Your Dataset\n",
    "\n",
    "Import and clean your dataset.\n",
    "\n",
    "Considering using the following techniques:\n",
    "\n",
    "- Drop any unnecessary columns.\n",
    "- Check the data types in the dataset. Are they correct or do they need to be changed?\n",
    "- Check for and drop any duplicate rows.\n",
    "- Check for missing values. How many are there?\n",
    "- Determine the best decision for dealing with the missing values and change the dataset. Possible choices are:\n",
    "    - Drop the rows with missing values.\n",
    "    - Drop the columns with missing values.\n",
    "    - Fill in the missing values with a zero.\n",
    "    - Fill in the missing values with an average value.\n",
    "    - Fill in the missing values with the value either before or after the missing value.\n",
    "    - Leave value as missing (missing data can be good data, too!)"
   ]
  },
  {
   "cell_type": "code",
   "execution_count": null,
   "metadata": {},
   "outputs": [],
   "source": [
    "import pandas as pd\n",
    "import numpy as np"
   ]
  },
  {
   "cell_type": "markdown",
   "metadata": {},
   "source": [
    "# Project: Introduction\n",
    "**Business Report Checkpoint**: Draft the INTRODUCTION section of your business report here. Be sure to include the following:\n",
    "\n",
    "- Relevant background information about the company (1.1)\n",
    "\n",
    "- The intention and purpose of the research project (1.2)\n",
    "\n",
    "- The scope, or what the project intends to investigate (1.3)\n",
    "\n",
    "- Your data sources or methods of collecting data (1.4)"
   ]
  }
 ],
 "metadata": {
  "language_info": {
   "name": "python"
  },
  "orig_nbformat": 4
 },
 "nbformat": 4,
 "nbformat_minor": 2
}
