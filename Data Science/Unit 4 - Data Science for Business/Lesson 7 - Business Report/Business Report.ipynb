{
 "cells": [
  {
   "cell_type": "markdown",
   "metadata": {},
   "source": [
    "# Project: Conclusions\n",
    "\n",
    "Business Report Checkpoint: Draft the CONCLUSIONS section of your business report here.\n",
    "\n",
    "- What interpretations were made from the data? What conclusions were made?\n",
    "\n",
    "- Be sure to use unbiased language to present the data without leading the readers towards an inherently positive or negative feeling."
   ]
  },
  {
   "cell_type": "code",
   "execution_count": null,
   "metadata": {},
   "outputs": [],
   "source": []
  },
  {
   "cell_type": "markdown",
   "metadata": {},
   "source": [
    "# Project: Recommendations\n",
    "Business Report Checkpoint: Draft the RECOMMENDATIONS section of your business report here.\n",
    "\n",
    "- Based on the interpretations and conclusions, what recommendations can you make to help the company improve?"
   ]
  },
  {
   "cell_type": "markdown",
   "metadata": {},
   "source": []
  },
  {
   "cell_type": "markdown",
   "metadata": {},
   "source": [
    "# Project: Findings and Discussion\n",
    "Business Report Checkpoint: Draft the FINDINGS AND DISCUSSION section of your business report here.\n",
    "\n",
    "- Separate different findings by using subsections (4.1, 4.2 etc).\n",
    "\n",
    "- List measures of central tendency, measures of spread, calculations, and visualizations in this section.\n",
    "\n",
    "- Be sure to clearly label and explain all visuals and data calculations based on the audience who will be reading the report."
   ]
  },
  {
   "cell_type": "code",
   "execution_count": null,
   "metadata": {},
   "outputs": [],
   "source": []
  },
  {
   "cell_type": "markdown",
   "metadata": {},
   "source": [
    "# Project: Executive Summary\n",
    "Business Report Checkpoint: The Executive Summary portion of a business report summarizes all of the critical details of the full report to capture all on one page. Scan through your entire report and pull out the important details to summarize and share in this section.\n",
    "\n",
    "Draft the EXECUTIVE SUMMARY section of your business report here. Be sure to include the following:\n",
    "\n",
    "- Purpose and method of the report\n",
    "\n",
    "- Findings and conclusions\n",
    "\n",
    "- Recommendations"
   ]
  },
  {
   "cell_type": "code",
   "execution_count": null,
   "metadata": {},
   "outputs": [],
   "source": []
  },
  {
   "cell_type": "markdown",
   "metadata": {},
   "source": [
    "# Completed Business Report\n",
    "Proofread and edit the final draft of your business report.\n",
    "\n",
    "Don’t forget to complete the REFERENCES and APPENDIX (if needed) sections.\n",
    "\n",
    "Paste a link to the completed report in this item."
   ]
  }
 ],
 "metadata": {
  "language_info": {
   "name": "python"
  },
  "orig_nbformat": 4
 },
 "nbformat": 4,
 "nbformat_minor": 2
}
