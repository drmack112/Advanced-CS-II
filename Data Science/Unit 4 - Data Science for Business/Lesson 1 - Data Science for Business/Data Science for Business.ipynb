{
 "cells": [
  {
   "cell_type": "markdown",
   "metadata": {},
   "source": [
    "# Data Science for Business\n",
    "Consider the following questions as you watch this video.\n",
    "\n",
    "1. Take note of the different roles of the people who are speaking in the video. What do you think an employee in analytics does that differs from a data scientist?\n",
    "\n",
    "2. How do you think the speakers in the video work with the business teams?\n",
    "\n",
    "Source:\n",
    "“Netflix Research: Analytics” *WeAreNetflix\n",
    "*. 3 Sep 2018, [https://www.youtube.com/watch?v=sAQmj8a_aI8](https://www.youtube.com/watch?v=sAQmj8a_aI8)\n",
    "\n",
    "Alternative Videos:\n",
    "“Netflix Research: Analytics” Video.Link, [https://video.link/w/hPDJc](https://video.link/w/hPDJc)"
   ]
  },
  {
   "cell_type": "code",
   "execution_count": null,
   "metadata": {},
   "outputs": [],
   "source": [
    "#Notes and answers"
   ]
  },
  {
   "cell_type": "markdown",
   "metadata": {},
   "source": [
    "# Business Examples\n",
    "This video shows how the company Zara uses data to optimize its product and profit.\n",
    "\n",
    "Choose an article below (or find your own!) to research how big companies have used data to improve their business processes.\n",
    "\n",
    "- [Zara](https://medium.com/@adamnathan/zara-big-data-a-5-minute-case-study-72dd9cebcbc6)\n",
    "- [Walmart](https://corporate.walmart.com/newsroom/innovation/20170807/5-ways-walmart-uses-big-data-to-help-customers)\n",
    "- [Facebook](https://www.simplilearn.com/how-facebook-is-using-big-data-article)\n",
    "- [Amazon](https://www.analyticssteps.com/blogs/how-amazon-uses-big-data)\n",
    "- [Spotify](https://www.analyticssteps.com/blogs/how-spotify-using-big-data)\n",
    "\n",
    "Consider the following questions as you read the article.\n",
    "\n",
    "1. What was one way that the company used big data?\n",
    "\n",
    "2. From where did they get the data? If the article doesn’t say, how do you think they got the data?\n",
    "\n",
    "3. Brainstorm another method of data analytics that could possibly help the company.\n",
    "\n",
    "Source:\n",
    "“How ZARA Uses Data Analytics To Run A Profitable Business” Analytics India Magazine. 14 Dec 2017, [https://www.youtube.com/watch?v=bkcAmCqIaao](https://www.youtube.com/watch?v=bkcAmCqIaao)\n",
    "\n",
    "Alternative Videos:\n",
    "“How ZARA Uses Data Analytics To Run A Profitable Business” Video.Link, [https://video.link/w/S65zc](https://video.link/w/S65zc)"
   ]
  },
  {
   "cell_type": "code",
   "execution_count": null,
   "metadata": {},
   "outputs": [],
   "source": [
    "#Answers"
   ]
  },
  {
   "cell_type": "markdown",
   "metadata": {},
   "source": [
    "# Nonprofit Businesses\n",
    "\n",
    "We have seen that big companies jump on the opportunity to use and analyze the data that they collect. But how about smaller businesses, or nonprofits? What can be done to make sure that they are up to speed and not left behind?\n",
    "\n",
    "A **nonprofit organization** is a company that is dedicated to furthering a particular social cause or advocating for a shared point of view. They earn a tax-exempt status from the Internal Revenue Service (IRS) because their company provides a public benefit.\n",
    "\n",
    "Some examples of nonprofit organizations include the following:\n",
    "\n",
    "- Salvation Army\n",
    "- Feeding America\n",
    "- St. Jude’s Children’s Research Hospital\n",
    "- YMCA\n",
    "- Habitat for Humanity\n",
    "- … and a whole lot more!\n",
    "\n",
    "These are the bigger, well-known nonprofit organizations, but there are millions more in the country.\n",
    "\n",
    "Unfortunately, data analytics is not widespread in the nonprofit sector. Many nonprofits in fact **do** collect data but just a small percent of them effectively use the data in their business decisions.\n",
    "\n",
    "In this project, you will have the option to choose a nonprofit organization to research and prepare a business proposal for. If you choose to research a nonprofit, the available data might be limited, but you’ll have the option to be more creative with the data that you do find and how it could be used.\n",
    "\n",
    "Read the article and consider the following questions:\n",
    "\n",
    "1. Five tips are given on how to improve fundraising operations for nonprofit organizations. Which of the five surprised you the most? Why?\n",
    "\n",
    "2. It may be strange to consider a charity a business. Why (or why not) should nonprofit organizations be concerned with and use data like the big businesses do?\n",
    "\n",
    "Source:\n",
    "Perham, Gabrielle. “5 Data Tips to Improve Fundraising Operations.” NonProfit PRO, 9 June 2020, [www.nonprofitpro.com/article/nonprofit-data-analytics-5-tips-to-improve-fundraising-operations/](www.nonprofitpro.com/article/nonprofit-data-analytics-5-tips-to-improve-fundraising-operations/)."
   ]
  },
  {
   "cell_type": "code",
   "execution_count": null,
   "metadata": {},
   "outputs": [],
   "source": [
    "# Answers"
   ]
  },
  {
   "cell_type": "markdown",
   "metadata": {},
   "source": [
    "# Project: Create Your Template\n",
    "In this project, you will gather (or create) business data that can be used to make decisions about how to better the business. You have the following options:\n",
    "\n",
    "- Choose a current company and use real data.\n",
    "\n",
    "- Create a fake company and use [randomized data](https://mockaroo.com/).\n",
    "\n",
    "- Choose a nonprofit company and use a mixture of real data and randomized data.\n",
    "\n",
    "You will create and present a business report that suggests several action items that you predict will help the business’s performance and growth. Recall suggestions that were given in an earlier lesson:\n",
    "\n",
    "- Improving efficiency based on metrics and data.\n",
    "\n",
    "- Making decisions based on social trends.\n",
    "\n",
    "- Learning more about customers and a business’s target audience.\n",
    "\n",
    "- Making better products based on an analysis of customer reviews.\n",
    "\n",
    "- Predicting the success rate of a new business strategy.\n",
    "\n",
    "There are several major steps involved in writing a business report. These include planning, conducting the data science life cycle, devising conclusions and recommendations based on the findings, drafting and editing/proofreading the report.\n",
    "\n",
    "## Project Introduction\n",
    "1. Make a copy or print out the business report template resource that follows this activity. There is also a sample completed report as a reference.\n",
    "\n",
    "2. Decide on a company that you would like to base your research and report on. Be sure to at least briefly research to ensure that there is data available for the company. You will search for the actual dataset in a future lesson.\n",
    "\n",
    "**Business Report Checkpoint**: Draft the TITLE PAGE of your business report here. Be sure to include the following:\n",
    "\n",
    "- Create a working title (it can still change)\n",
    "\n",
    "- Decide who the audience will be (employees, CEO, local community members, etc)\n",
    "\n",
    "- Include your brainstorming ideas on which company to base your report on.\n",
    "\n",
    "- Include your brainstorming ideas on how you intend to help the business."
   ]
  }
 ],
 "metadata": {
  "language_info": {
   "name": "python"
  },
  "orig_nbformat": 4
 },
 "nbformat": 4,
 "nbformat_minor": 2
}
