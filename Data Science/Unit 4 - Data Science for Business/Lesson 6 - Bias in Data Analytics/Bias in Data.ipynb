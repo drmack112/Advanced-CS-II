{
 "cells": [
  {
   "cell_type": "markdown",
   "metadata": {},
   "source": [
    "# Problem 1 - Avoiding Bias\n",
    "\n",
    "Bias should be avoided when dealing with data. Take some time to think of the data that you have gathered and the industry that you have chosen for this project.\n",
    "\n",
    "Brainstorm possible entry points for bias:\n",
    "\n",
    "1. Are all demographics represented equally in the data?\n",
    "\n",
    "2. Was the data collected in an unbiased manner?\n",
    "\n",
    "3. Is your data complete and of good quality?\n",
    "\n",
    "4. How will you deal with missing data or outliers to avoid bias?\n",
    "\n",
    "5. Did you consider your own bias?\n",
    "\n",
    "    - What are you expecting the data to show?\n",
    "\n",
    "    - Did you make sure to search for data that might oppose what you are expecting?\n",
    "\n",
    "6. How can you be sure to avoid interpretation data? What words will you use (or not use) in your presentation to demonstrate your findings without leaning towards an inherent positive or negative fashion?\n",
    "\n",
    "7. Have a classmate or friend review your answers to this activity. Did they have anything else to add? What was their response to your answers?"
   ]
  },
  {
   "cell_type": "code",
   "execution_count": null,
   "metadata": {},
   "outputs": [],
   "source": [
    "# meh"
   ]
  },
  {
   "cell_type": "markdown",
   "metadata": {},
   "source": [
    "# Problem 2 - Analyze and Interpret\n",
    "\n",
    "Import your dataset to explore and analyze your data.\n",
    "\n",
    "Considering using the following techniques:\n",
    "\n",
    "- Determine the measures of central tendency (mean, median, mode) and spread (variance, standard deviation)\n",
    "- Use functions to create new columns using the data\n",
    "- Filter using loc, iloc and conditions"
   ]
  },
  {
   "cell_type": "code",
   "execution_count": null,
   "metadata": {},
   "outputs": [],
   "source": [
    "import pandas as pd\n",
    "import numpy as np"
   ]
  },
  {
   "cell_type": "markdown",
   "metadata": {},
   "source": [
    "# Problem 3 - Visualizations\n",
    "\n",
    "Import your dataset to explore and visualize your data.\n",
    "\n",
    "Considering using the following techniques:\n",
    "\n",
    "- Using grouping and explore a pie chart\n",
    "- Compare boxplots or histograms using different columns of data\n",
    "- Fit and compare a histogram to a normal distribution curve.\n",
    "- Determine the correlation between different variables.\n",
    "- Perform linear regression if a correlation exists."
   ]
  },
  {
   "cell_type": "code",
   "execution_count": null,
   "metadata": {},
   "outputs": [],
   "source": [
    "import pandas as pd\n",
    "import numpy as np\n",
    "import matplotlib.pyplot as plt"
   ]
  }
 ],
 "metadata": {
  "language_info": {
   "name": "python"
  },
  "orig_nbformat": 4
 },
 "nbformat": 4,
 "nbformat_minor": 2
}
