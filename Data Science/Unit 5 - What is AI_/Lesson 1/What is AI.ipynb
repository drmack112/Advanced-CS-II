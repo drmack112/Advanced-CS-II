{
 "cells": [
  {
   "cell_type": "markdown",
   "metadata": {},
   "source": [
    "# A Day in the Life of AI\n",
    "This infographic explores the prevalence of Artificial Intelligence in our daily lives. Explore the infographic and answer the following questions:\n",
    "\n",
    "1. Which of the tools that use AI surprised you? Why?\n",
    "2. What percentage of global consumers interact with organizations through AI on a daily basis? Is this number greater or lower than you expected?\n",
    "3. How do consumers feel generally about AI? How do you know this, and why do you think that is?\n",
    "4. Which statistic was most interesting to you? Why?"
   ]
  },
  {
   "cell_type": "code",
   "execution_count": null,
   "metadata": {},
   "outputs": [],
   "source": []
  },
  {
   "cell_type": "markdown",
   "metadata": {},
   "source": [
    "# Guess the Drawing\n",
    "Use this random word generator to play a game of Pictionary with one of your classmates. To play, have one person pick a word using the word generator, and try to draw that word. The other player has to try to guess what the drawing is, without looking at the word!\n",
    "As you play, keep time of how long it takes you to figure out what the other person is drawing. On a separate sheet of paper, write down the words you choose and the time it takes to complete them.\n",
    "\n",
    "Play 3-5 times so you can take an average of how long it takes for each player to guess each word. Keep a list of all the words that you played - this will be used in the next exercise!\n",
    "\n",
    "[https://wordrawapp.com/index.html](https://wordrawapp.com/index.html)"
   ]
  },
  {
   "cell_type": "code",
   "execution_count": null,
   "metadata": {},
   "outputs": [],
   "source": []
  },
  {
   "cell_type": "markdown",
   "metadata": {},
   "source": [
    "# Drawing with AI\n",
    "AutoDraw is an AI program developed by programmers at Google that predicts what users are trying to draw, and gives suggestions for what they it might be.\n",
    "\n",
    "Try drawing the words that you got from the Pictionary exercise and time how long it takes the computer program to guess the word or object that you are trying to draw.\n",
    "You’ll find the drawing predictions at the top where it says “Do you mean”, and you can start a new drawing by clicking on the three bars on the top left.\n",
    "\n",
    "After a couple of drawings, answer these questions in the following exercise:\n",
    "\n",
    "1. Is this an example of Strong or Weak AI? How do you know?\n",
    "2. How long did it take for the computer to guess what you drew compared to your partner? Is this what you expected?\n",
    "3. Using our definition of intelligence, would you describe this program as intelligent? Why or why not?\n",
    "4. How do you think this program works? Use your best guess to imagine how they might be able to create a program like this!\n",
    "5. Read the article [Draw like a pro! Google’s AI transforms your awful line drawings into works of art](https://www.wired.co.uk/article/google-autodraw-machine-learning). According to the article, how does AutoDraw work?"
   ]
  },
  {
   "cell_type": "code",
   "execution_count": null,
   "metadata": {},
   "outputs": [],
   "source": []
  }
 ],
 "metadata": {
  "language_info": {
   "name": "python"
  },
  "orig_nbformat": 4
 },
 "nbformat": 4,
 "nbformat_minor": 2
}
