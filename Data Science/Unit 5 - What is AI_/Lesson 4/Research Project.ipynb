{
 "cells": [
  {
   "cell_type": "markdown",
   "metadata": {},
   "source": [
    "# Choosing An Ethical Dilemma\n",
    "In the last lesson, we learned a bit about some of the ethical dilemmas that impact developments in Artificial Intelligence.\n",
    "\n",
    "In this lesson, you will dive further into the ethics of AI by choosing a topic in AI to research and report on.\n",
    "\n",
    "To get started, you will have to choose a topic in the ethics of AI to research. There are plenty of options, but here are a few to consider from:\n",
    "\n",
    "1. Algorithmic Bias\n",
    "2. Data Collection and AI\n",
    "3. AI Faking Technology (Deep Fakes)\n",
    "4. Human - Robot Interactions (Healthcare Robots)\n",
    "5. Automation and Employment\n",
    "6. Autonomous Vehicles/Weapons\n",
    "7. Robot Rights\n",
    "8. The Risk of Superintelligence\n",
    "Pick two to three of the options above and do some preliminary research on each topic. Then, pick the one that you are most interested in learning more about. Write in this free response which topic you are choosing and why.\n",
    "\n",
    "If none of the options above seem interesting, then do additional research in other topics. Consider going here to [learn more](https://en.wikipedia.org/wiki/Ethics_of_artificial_intelligence)!"
   ]
  },
  {
   "cell_type": "code",
   "execution_count": null,
   "metadata": {},
   "outputs": [],
   "source": []
  },
  {
   "cell_type": "markdown",
   "metadata": {},
   "source": [
    "# Researching Your Ethical Dilemma\n",
    "Now that you’ve chosen your research topic, it’s time to do some research!\n",
    "\n",
    "Your research will ultimately lead to a presentation that explores your topic in detail. For the presentation, you will need to answer the following questions:\n",
    "\n",
    "1. Describe how your topic is related to Artificial Intelligence.\n",
    "2. What is the argument that is at the heart of your topic? In other words, what are the different opinions associated with this topic?\n",
    "3. What arguments are used to back the different opinions in this topic?\n",
    "4. What role does this topic have in our lives currently? How does it impact everyday life?\n",
    "5. What is your stance on the topic? Why?\n",
    "\n",
    "Find at least five articles that provide information on this topic. Make sure that these articles are credible, relevant, and up to date as best as you can.\n",
    "\n",
    "Submit the five articles in this free response, as well as your initial answers to these questions."
   ]
  },
  {
   "cell_type": "code",
   "execution_count": null,
   "metadata": {},
   "outputs": [],
   "source": []
  },
  {
   "cell_type": "markdown",
   "metadata": {},
   "source": [
    "# Creating Your Ethical Presentation\n",
    "Now that you’ve completed your research, it’s time to create a presentation highlighting what you’ve learned.\n",
    "\n",
    "Your presentation can take a variety of forms, so long as you answer the questions:\n",
    "\n",
    "1. How is your topic related to Artificial Intelligence?\n",
    "2. What is the argument that is at the heart of your topic? In other words, what are the different opinions associated with this topic?\n",
    "3. What arguments are used to back the different opinions on this topic?\n",
    "4. What role does this topic have in our lives currently? How does it impact everyday life?\n",
    "5. What is your stance on the topic? Why?\n",
    "\n",
    "Some options for your presentation are:\n",
    "\n",
    "1. Slide deck highlighting your research and position\n",
    "2. Research Paper\n",
    "3. Mock Debate between two people on opposite sides of your issue\n",
    "4. Infomercial\n",
    "5. Infographic with data\n",
    "\n",
    "Regardless of what format you use for your presentation, include a section where you cite your research sources.\n",
    "\n",
    "Use this free response to brainstorm what you plan on doing for your presentation and to take notes."
   ]
  }
 ],
 "metadata": {
  "language_info": {
   "name": "python"
  },
  "orig_nbformat": 4
 },
 "nbformat": 4,
 "nbformat_minor": 2
}
