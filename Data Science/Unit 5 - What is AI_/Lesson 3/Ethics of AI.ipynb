{
 "cells": [
  {
   "cell_type": "markdown",
   "metadata": {},
   "source": [
    "# Bias in Facial Recognition Software\n",
    "This TED Talk was delivered by MIT grad student Joy Buolamwini, who was working with facial analysis software when she noticed a problem.\n",
    "\n",
    "Watch the [video](https://youtu.be/lbnVu3At-0o) and respond to the following questions in the next exercise:\n",
    "\n",
    "1. What are some of the impacts of facial recognition bias?\n",
    "2. What are some potential solutions for this issue?\n",
    "3. Should facial recognition software be used? Why or why not?\n",
    "4. Are there other examples of data bias that you’ve encountered?\n",
    "\n",
    "Want to learn more about facial recognition bias? Joy has also written articles about what we can do to [make things better](https://time.com/5520558/artificial-intelligence-racial-gender-bias/)."
   ]
  },
  {
   "cell_type": "code",
   "execution_count": null,
   "metadata": {},
   "outputs": [],
   "source": []
  },
  {
   "cell_type": "markdown",
   "metadata": {},
   "source": [
    "# Testing a Biased Dataset\n",
    "In this activity, we’ll return to Google’s Teachable Machine! In this exercise, we are going to create an algorithm that can take an image and determine if that image is of a fish or a whale.\n",
    "\n",
    "To get started, head to [Teachable Machine](https://teachablemachine.withgoogle.com/train/image)!\n",
    "\n",
    "In order to get our algorithm to work properly, we need to feed it data that classifies certain images as fish and others as whales.\n",
    "\n",
    "In Class 1, upload [these images](https://drive.google.com/drive/folders/1zLNefP1PQN_D5rjvXFUiNZt9qtJ-6SHo?usp=sharing) and change the name of the class to fish.\n",
    "\n",
    "In Class 2, [upload these](https://drive.google.com/drive/folders/15BnAuXg5Vd3nys45jlLTfp9v2teGiM5D?usp=sharing) images and change the name of the class to whale.\n",
    "\n",
    "When you are done, your Teachable Machine should look like this:\n",
    "\n",
    "Once you’ve added the correct training data, click the Train Model button. This will train the algorithm to classify new images as a fish or a whale based on the existing images. If you’re interested, click the Advanced settings to learn more about how the algorithm is being trained.\n",
    "\n",
    "When the program is done training, it’s time to test the quality of the classification algorithm.\n",
    "\n",
    "Upload each of [these testing images](https://drive.google.com/drive/folders/1-T1LIQmtb0EKUhZDjXqSIm8htjO0jzJy?usp=sharing) to the model. Use the drop-down to set the input type as a file instead of the webcam. You will only be able to test one image at a time. Is the model accurate? Why or why not? Which images is it accurate for?\n",
    "\n",
    "You may notice that most of the images of whales incorrectly classify the images as images of fish. This is an example of **algorithmic bias**. Because our sample only has 4 images of whales, it’s less likely to correctly categorize an image of a whale because it has less data to associate with whales.\n",
    "In order to correct this, add the [following images](https://drive.google.com/drive/folders/1-pkCrITFlTL9k640xh9e2CaAZuQ1ixiO?usp=sharing) to the whale image samples. Now, there should be 9 images of whales and 9 images of fish!\n",
    "\n",
    "Re-run the training model with the new data. Now, try uploading the testing images to the algorithm - were the results different??\n",
    "\n",
    "Reflect on your experience with this machine learning tool. Talk to one of your classmates about the following questions:\n",
    "1. How did this exercise highlight algorithmic bias?\n",
    "2. What seems to be the easiest way to combat algorithmic bias?\n",
    "3. What were your thoughts on the classification tool? Did it seem to work once the data was corrected?"
   ]
  },
  {
   "cell_type": "code",
   "execution_count": null,
   "metadata": {},
   "outputs": [],
   "source": []
  },
  {
   "cell_type": "markdown",
   "metadata": {},
   "source": [
    "# Debating the Ethics of Self Driving Cars\n",
    "In this exercise, you will pick a side in the debate about self driving cars. The two perspectives that you can choose from are:\n",
    "\n",
    "1. Self Driving Cars are ultimately beneficial.\n",
    "2. Self Driving Cars are ultimately harmful.\n",
    "\n",
    "**Step 1**: Start by reading the article [The everyday ethical challenges of self-driving cars. As you read the article](https://theconversation.com/the-everyday-ethical-challenges-of-self-driving-cars-92710), consider the following questions:\n",
    "\n",
    "- Why is it important to consider everyday ethical challenges when it comes to self-driving cars?\n",
    "- What additional traffic systems questions come with self-driving cars?\n",
    "\n",
    "**Step 2**: Once you’ve chosen your position, read 2 more articles, one in favor of your position, and 1 against your position.\n",
    "\n",
    "Articles For Self Driving Cars:\n",
    "- [Self Driving Cars are Already Safe](https://money.cnn.com/2018/03/21/technology/self-driving-car-safety/)\n",
    "- [Self Driving Cars Reduce Greenhouse Gases](https://www.scientificamerican.com/article/self-driving-cars-could-cut-greenhouse-gas-pollution/)\n",
    "- [Self Driving Cars Save Time](https://www.forbes.com/sites/modeledbehavior/2014/11/08/the-massive-economic-benefits-of-self-driving-cars/?sh=57887f8d3273)\n",
    "\n",
    "Articles Against Self Driving Cars:\n",
    "\n",
    "- [Privacy Concerns with Self Driving Cars](https://blogs.thomsonreuters.com/answerson/privacy-concerns-self-driving-cars-ready-autonomous-vehicles/)\n",
    "- [Job Loss with Self Driving Cars](https://www.cnbc.com/2017/05/22/goldman-sachs-analysis-of-autonomous-vehicle-job-loss.html)\n",
    "- [Summary of Opposed Arguments](https://www.forbes.com/sites/lanceeliot/2021/04/05/heres-why-some-are-vehemently-and-diametrically-opposed-to-self-driving-cars/?sh=16695e6b5699) (while this is a longer article, it provides a comprehensive account of the arguments against self-driving cards)\n",
    "\n",
    "When you’ve read three articles, use this free response to make your arguments to back your position.\n",
    "\n",
    "Write your response in at least **300** words."
   ]
  },
  {
   "cell_type": "code",
   "execution_count": null,
   "metadata": {},
   "outputs": [],
   "source": []
  }
 ],
 "metadata": {
  "language_info": {
   "name": "python"
  },
  "orig_nbformat": 4
 },
 "nbformat": 4,
 "nbformat_minor": 2
}
