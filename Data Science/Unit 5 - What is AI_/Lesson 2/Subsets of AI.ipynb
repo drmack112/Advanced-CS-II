{
 "cells": [
  {
   "cell_type": "markdown",
   "metadata": {},
   "source": [
    "# Using a Natural Language Processor\n",
    "This is a demo of IBM’s powerful Natural Language Processor. It’s able to extract lots of information from a text sample, and categorize it in powerful ways. In this exercise, we’ll spend some time exploring their product.\n",
    "\n",
    "Follow the directions for each exploration below. You will reflect on your experience in the following activity.\n",
    "\n",
    "[https://www.ibm.com/demos/live/natural-language-understanding/self-service/home](https://www.ibm.com/demos/live/natural-language-understanding/self-service/home)\n",
    "\n",
    "## Exploration 1: Wikipedia’s page on Artificial Intelligence\n",
    "1. **Input the text**: Under “Try Your Own” (on the left), click “URL”. Copy and paste Wikipedia’s page for artificial intelligence into the textbox: [https://en.wikipedia.org/wiki/Artificial_intelligence](https://en.wikipedia.org/wiki/Artificial_intelligence). Then click “Analyze URL.”\n",
    "2. **Analyze the data**: Use the dropdown options to choose Classification (on the left) and Emotion (on the right). What is the overall emotion of the text? What keywords did IBM Watson use to determine the emotion of the text? Do you agree with the computer’s analysis?"
   ]
  },
  {
   "cell_type": "markdown",
   "metadata": {},
   "source": [
    "## Exploration 2: “Is Artificial Intelligence Dangerous?”\n",
    "1. **Input the text**: Click “Edit URL” and input the URL for the Forbes article “Is Artificial Intelligence Dangerous?”: [https://www.forbes.com/sites/bernardmarr/2018/11/19/is-artificial-intelligence-dangerous-6-ai-risks-everyone-should-know-about/](https://www.forbes.com/sites/bernardmarr/2018/11/19/is-artificial-intelligence-dangerous-6-ai-risks-everyone-should-know-about/).\n",
    "2. **Predict**: How do you think the analysis for this text will differ from the Wikipedia article? Once you have made a prediction, click “Analyze URL.”\n",
    "3. **Analyze the data**: Was your prediction correct? What is the overall emotion of the text? What keywords did IBM Watson use to determine the emotion of the text? Do you agree with the computer’s analysis?"
   ]
  },
  {
   "cell_type": "markdown",
   "metadata": {},
   "source": [
    "## Exploration 3: “Artificial Intelligence for good”\n",
    "1. **Input the text**: Click “Edit URL” and input the URL for the UTI article “Artificial Intelligence for good”: [https://www.itu.int/en/mediacentre/backgrounders/Pages/artificial-intelligence-for-good.aspx](https://www.itu.int/en/mediacentre/backgrounders/Pages/artificial-intelligence-for-good.aspx). Click “Analyze Text.”\n",
    "2. **Predict**: How do you think the analysis for this text will differ from the Wikipedia article? Once you have made a prediction, click “Analyze URL.”\n",
    "3. **Analyze the data**: Was your prediction correct? What is the overall emotion of the text? What keywords did IBM Watson use to determine the emotion of the text? Do you agree with the computer’s analysis?"
   ]
  },
  {
   "cell_type": "markdown",
   "metadata": {},
   "source": [
    "# Problem 1 - Using a Natural Language Processor\n",
    "\n",
    "Answer the following questions based on your exploration of IBM’s natural language processor:\n",
    "\n",
    "1. How do natural language processors determine the emotion of a text?\n",
    "2. How might the ability to determine the emotion of a text be useful?\n",
    "3. To what extent do you think the computer’s text analysis is accurate?"
   ]
  },
  {
   "cell_type": "code",
   "execution_count": null,
   "metadata": {},
   "outputs": [],
   "source": []
  },
  {
   "cell_type": "markdown",
   "metadata": {},
   "source": [
    "# Teachable Machine Exploration\n",
    "In this activity, we’ll get a chance to build our own **classification** machine learning algorithm using Google’s Teachable Machine. Classification algorithms are able to classify images, sounds, and other data into categories based on training data.\n",
    "\n",
    "In this exercise, you are going to try and teach Google’s machine to understand the difference between blue and red.\n",
    "\n",
    "To get started, head to [Teachable Machine](https://teachablemachine.withgoogle.com/train/image)!\n",
    "\n",
    "**Step 1**: In order to teach the machine, we need to feed it data that classifies certain images as blue and red. For Class 1, add 3-5 images that capture the color red. For Class 2, add 3-5 images that capture the color blue. You can find these images by using a search engine. Alternatively, you can use physical red and blue objects and capture images of them using the Webcam feature.\n",
    "\n",
    "**Step 2**: Once you’ve added the correct training data, click the Train Model button. This will train the algorithm to classify new images as red or blue based on the existing images. If you’re interested, click the Advanced settings to learn more about how the algorithm is being trained.\n",
    "\n",
    "**Step 3**: When the program is done training, it’s time to test the quality of the classification algorithm. Upload each of [these testing images](https://drive.google.com/drive/folders/1mFi9G24R96s53YHCUMO5TrAvYuwH9uTX?usp=sharing) to the model. Use the drop-down to set the input type as a file instead of the webcam. You will only be able to test one image at a time. Is the model accurate? Why or why not? Which images is it accurate for?\n",
    "\n",
    "**Step 4**: Analyze and reflect on your results. You will answer the following questions in the following activity.\n",
    "\n",
    "- Was your model able to accurately predict the color of the test images?\n",
    "- If your model was 100% accurate, why do think this was the case?\n",
    "- If your model was not 100% accurate, which images did it struggle with? Why do you think this is the case? What do you think you do to make your model more accurate?"
   ]
  },
  {
   "cell_type": "code",
   "execution_count": null,
   "metadata": {},
   "outputs": [],
   "source": []
  },
  {
   "cell_type": "markdown",
   "metadata": {},
   "source": [
    "# Neural Network Playground\n",
    "**Background**: Tensor Flow is a machine learning library that enables programmers to use machine learning algorithms without having to understand all of the complicated mathematics that goes into creating a machine learning algorithm.\n",
    "\n",
    "This site has an example neural network that you can play around with to get a better sense of how they work.\n",
    "\n",
    "The purpose of this particular neural network is to group data. On the righthand side of the page, you should see an Output. When the program is run, the orange and blue shades in the background of the graph will shift and change to try to group the data correctly.\n",
    "\n",
    "**Directions**: Press the Play button to see how the computer works to group the orange and blue data points. The deeper the orange and blue, the more confident the model is about its predictions.\n",
    "\n",
    "Don’t worry about trying to understand all of the variables and vocabulary - just use this model to visualize the iterative process that takes place in neural networks!\n",
    "\n",
    "[Try ME!](https://tinyurl.com/d4lkm0w4)"
   ]
  }
 ],
 "metadata": {
  "language_info": {
   "name": "python"
  },
  "orig_nbformat": 4
 },
 "nbformat": 4,
 "nbformat_minor": 2
}
