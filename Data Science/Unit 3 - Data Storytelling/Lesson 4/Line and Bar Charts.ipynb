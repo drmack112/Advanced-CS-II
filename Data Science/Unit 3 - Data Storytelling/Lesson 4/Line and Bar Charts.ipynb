{
 "cells": [
  {
   "cell_type": "markdown",
   "metadata": {},
   "source": [
    "# Example: School Line Chart\n",
    "\n",
    "There are TWO different datasets in this example. A large data set and a smaller data set.\n",
    "\n",
    "The small data set is used in the code shown. Click RUN to see the line chart. Try the following actions to see how the chart is affected.\n",
    "\n",
    "1. Change the strings in the labels and title. Where are these labels displayed on the chart?\n",
    "\n",
    "2. Change the `linewidth` and `color` parameters.\n",
    "\n",
    "3. Change the `linestyle` parameter. A few options are:\n",
    "    - dashed\n",
    "    - dotted\n",
    "    - dashdot\n",
    "\n",
    "4. Change the `marker` parameter. Click this link to see the different markers that can be used.\n",
    "\n",
    "https://matplotlib.org/stable/api/markers_api.html\n",
    "\n",
    "5. **IMPORTANT**: At the top in the `read_csv()` function, change `small_data.csv` to `large_data.csv`. Run the code. What happens? What does this tell you about the use of line plots vs. scatterplots?\n",
    "\n",
    "Data Source:\n",
    "\n",
    "https://codap.concord.org/releases/latest/static/dg/en/cert/index.html?url=https://concord-consortium.github.io/codap-data/SampleDocs/Education/School_Children/School_Children.json"
   ]
  },
  {
   "cell_type": "code",
   "execution_count": 1,
   "metadata": {},
   "outputs": [
    {
     "data": {
      "image/png": "[encoded data removed]",
      "text/plain": [
       "<Figure size 432x288 with 1 Axes>"
      ]
     },
     "metadata": {
      "needs_background": "light"
     },
     "output_type": "display_data"
    }
   ],
   "source": [
    "import pandas as pd\n",
    "import matplotlib.pyplot as plt\n",
    "\n",
    "df = pd.read_csv (r\"small_data.csv\")\n",
    "pd.set_option(\"display.max_columns\", None)\n",
    "\n",
    "# Sort age by youngest to oldest (ascending)\n",
    "df.sort_values(by=[\"age\"], ascending=True, inplace=True)\n",
    "\n",
    "# Set x and y for female data\n",
    "x1 = df.age.loc[df.sex == \"f\"]\n",
    "y1 = df.height.loc[df.sex == \"f\"]\n",
    "\n",
    "# Set x and y for male data\n",
    "x2 = df.age.loc[df.sex == \"m\"]\n",
    "y2 = df.height.loc[df.sex == \"m\"]\n",
    "\n",
    "# Add labels\n",
    "plt.xlabel(\"Age\")\n",
    "plt.ylabel(\"Height\")\n",
    "plt.title(\"Height of School Children\")\n",
    "\n",
    "# Plot and customize each line\n",
    "plt.plot(x1, y1, linewidth = 1.0,  linestyle = \"dashed\" )\n",
    "plt.plot(x2, y2, color=\"green\", marker=\"o\")\n",
    "\n",
    "# Add a legend\n",
    "plt.legend([\"Females\", \"Males\"], loc=\"upper left\")\n",
    "\n",
    "plt.show()\n"
   ]
  },
  {
   "cell_type": "markdown",
   "metadata": {},
   "source": [
    "# Example: Add Some Style!\n",
    "\n",
    "The Matplotlib library includes themes or different styles that you can apply to your whole graph!\n",
    "\n",
    "The function `plt.style.use()` should be used before the code that will plot the graph.\n",
    "\n",
    "1. Find the `plt.style.use()` function and try out the following styles:\n",
    "    - Solarize_Light2\n",
    "    - bmh\n",
    "    - dark_background\n",
    "    - fivethirtyeight\n",
    "    - ggplot\n",
    "    - grayscale\n",
    "    - seaborn\n",
    "\n",
    "Check out more about styles here!\n",
    "\n",
    "https://matplotlib.org/stable/gallery/style_sheets/style_sheets_reference.html"
   ]
  },
  {
   "cell_type": "code",
   "execution_count": null,
   "metadata": {},
   "outputs": [],
   "source": [
    "import pandas as pd\n",
    "import matplotlib.pyplot as plt\n",
    "\n",
    "df = pd.read_csv (r\"style.csv\")\n",
    "pd.set_option(\"display.max_columns\", None)\n",
    "\n",
    "# Add Style!\n",
    "plt.style.use(\"Solarize_Light2\")\n",
    "\n",
    "# Plot a scatterplot using age and height\n",
    "df.plot(kind=\"scatter\", x=\"age\", y=\"height\", color = \"orange\", s = 10)\n",
    "\n",
    "plt.show()\n"
   ]
  },
  {
   "cell_type": "markdown",
   "metadata": {},
   "source": [
    "# Problem 1 - Rain on Me\n",
    "\n",
    "Dataset: Precipitation\n",
    "There are two datasets in this activity. One lists the average temperature and precipitation information for Georgia and one for New York from 2006 to 2020.\n",
    "\n",
    "Look for more data here\n",
    "\n",
    "https://www.ncei.noaa.gov/access/us-climate-normals/#dataset=normals-monthly&timeframe=15\n",
    "\n",
    "1. Import the dataset of two different states.\n",
    "\n",
    "2. Compare the precipitation averages for both states by plotting a line chart.\n",
    "\n",
    "    - Sort each dataset by date (if necessary).\n",
    "    - Set the x and y values for each state.\n",
    "    - Add an x label, a y label, and a title.\n",
    "    - Plot both lines. Use different colors and a marker of \"o\".\n",
    "    - Add a legend.\n",
    "\n",
    "3. What conclusions can you make from the chart? Jot down (or print out) at least three conclusions (i.e. It typically rains more in January in State 1.)\n",
    "\n",
    "Data Source: https://www.ncei.noaa.gov/access/us-climate-normals/#dataset=normals-monthly&timeframe=15\n"
   ]
  },
  {
   "cell_type": "code",
   "execution_count": null,
   "metadata": {},
   "outputs": [],
   "source": [
    "import pandas as pd\n",
    "import matplotlib.pyplot as plt\n",
    "\n"
   ]
  },
  {
   "cell_type": "markdown",
   "metadata": {},
   "source": [
    "# Temperature Bar Chart\n",
    "\n",
    "Dataset: Average Temperature\n",
    "\n",
    "The dataset in this activity lists the average temperature and precipitation information for Georgia from 2006 to 2020.\n",
    "\n",
    "Try the following actions to see how the bar chart is affected.\n",
    "\n",
    "1. Change the number in the `font-size` parameter of the title.\n",
    "\n",
    "2. Change the Boolean in `plt.grid()` to `True`. What happens to the graph?\n",
    "\n",
    "3. Change the number in the `rotation` parameter. Use a number from 0 to 360. Can you see what this changes? How is this useful?\n",
    "\n",
    "4. Change the number in the `width` parameter of the `plt.bar()` function. Try a large number and a small number.\n",
    "\n",
    "5. Change the argument in the `color` parameter from `\"#EA638C\"` to `color_scheme` for a nice surprise!\n",
    "\n",
    "Data Source: https://www.ncei.noaa.gov/access/us-climate-normals/#dataset=normals-monthly&timeframe=15"
   ]
  },
  {
   "cell_type": "code",
   "execution_count": null,
   "metadata": {},
   "outputs": [],
   "source": [
    "import pandas as pd\n",
    "import matplotlib.pyplot as plt\n",
    "\n",
    "# Import dataset\n",
    "GA = pd.read_csv (r\"g1.csv\")\n",
    "pd.set_option(\"display.max_columns\", None)\n",
    "\n",
    "# Add labels and a title\n",
    "plt.xlabel(\"Month\")\n",
    "plt.ylabel(\"Temperature (°F)\")\n",
    "plt.title(\"Average GA Temps\", fontsize=22)\n",
    "\n",
    "# Adjust grid and rotation of x ticks\n",
    "plt.grid(False)\n",
    "plt.xticks(rotation=45)\n",
    "\n",
    "# Color scheme for bars\n",
    "color_scheme = [\"red\", \"orange\", \"yellow\", \"green\", \"blue\", \"purple\", \"red\", \"orange\",\"yellow\", \"green\", \"blue\", \"purple\"]\n",
    "\n",
    "# Plot bar chart using the date as the x and the temperature as the y (or height)\n",
    "plt.bar(x=GA.DATE, height=GA[\"MLY-TAVG-NORMAL\"], width=1, edgecolor=\"black\", color=\"#EA638C\")\n",
    "\n",
    "\n",
    "plt.show()"
   ]
  },
  {
   "cell_type": "markdown",
   "metadata": {},
   "source": [
    "# Example: Bar Chart Comparison\n",
    "\n",
    "Dataset: Average Temperature\n",
    "\n",
    "There are two datasets in this activity. One lists the average temperature and precipitation information for Georgia and one for New York from 2006 to 2020.\n",
    "\n",
    "Try the following action to see how the bar chart is affected.\n",
    "\n",
    "1. Change the number in the bar_width parameter. Where is this parameter being used? Hint: You should be able to find it used three times in the code.\n",
    "\n",
    "Data Source: https://www.ncei.noaa.gov/access/us-climate-normals/#dataset=normals-monthly&timeframe=15"
   ]
  },
  {
   "cell_type": "code",
   "execution_count": null,
   "metadata": {},
   "outputs": [],
   "source": [
    "import pandas as pd\n",
    "import matplotlib.pyplot as plt\n",
    "\n",
    "# Import both datasets\n",
    "GA = pd.read_csv (r\"g1.csv\")\n",
    "NY = pd.read_csv (r\"ny1.csv\")\n",
    "pd.set_option(\"display.max_columns\", None)\n",
    "\n",
    "# Add labels and a title\n",
    "plt.xlabel(\"Month\")\n",
    "plt.ylabel(\"Temperature (°F)\")\n",
    "plt.title(\"NY vs GA Temps\", fontsize=22)\n",
    "\n",
    "# Set the width of the bar\n",
    "bar_width = 0.4\n",
    "\n",
    "# Plot GA dataset\n",
    "plt.bar(x=GA.DATE, height=GA[\"MLY-TAVG-NORMAL\"], width=bar_width, color=\"#EA638C\")\n",
    "\n",
    "# Plot New York data set. Add the bar width to the x value so that the bars do not overlap the GA data\n",
    "plt.bar(x=NY.DATE + bar_width, height=NY[\"MLY-TAVG-NORMAL\"], width=bar_width, color=\"#190E4F\")\n",
    "\n",
    "# Add a legend\n",
    "plt.legend([\"Georgia\", \"New York\"])\n",
    "\n",
    "plt.show()"
   ]
  },
  {
   "cell_type": "markdown",
   "metadata": {},
   "source": [
    "# Problem 2 - Plastic Production\n",
    "\n",
    "Dataset: World Plastic Production\n",
    "\n",
    "This data set lists the global plastic production in millions of tonnes from the year 1950 to 2015.\n",
    "\n",
    "1. Import the dataset.\n",
    "\n",
    "2. Set an x label, a y label, and a title.\n",
    "\n",
    "3. Plot a bar chart that displays the amount of plastic production per year.\n",
    "\n",
    "4. Customize and style your bar chart!\n",
    "\n",
    "Data Source: https://www.kaggle.com/sohamgade/plastic-datasets?select=per-capita-plastic-waste-vs-gdp-per-capita.csv"
   ]
  },
  {
   "cell_type": "code",
   "execution_count": null,
   "metadata": {},
   "outputs": [],
   "source": [
    "import pandas as pd\n",
    "import matplotlib.pyplot as plt\n",
    "\n"
   ]
  }
 ],
 "metadata": {
  "interpreter": {
   "hash": "f1793f6218bdab599c2b6b9045edd3c4075c7efcd0a67c87fef4d66180b50d86"
  },
  "kernelspec": {
   "display_name": "Python 3.8.11 64-bit ('myenv': conda)",
   "name": "python3"
  },
  "language_info": {
   "codemirror_mode": {
    "name": "ipython",
    "version": 3
   },
   "file_extension": ".py",
   "mimetype": "text/x-python",
   "name": "python",
   "nbconvert_exporter": "python",
   "pygments_lexer": "ipython3",
   "version": "3.8.11"
  },
  "orig_nbformat": 4
 },
 "nbformat": 4,
 "nbformat_minor": 2
}
