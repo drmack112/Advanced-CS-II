{
 "cells": [
  {
   "cell_type": "markdown",
   "metadata": {},
   "source": [
    "# Example: State Education Pie\n",
    "\n",
    "This data set lists the population in each state and their level of education. Primary education is through grade eight, secondary education is through grade twelve, and tertiary education is college or trade school.\n",
    "\n",
    "Explore the example making sure to read the comments in the code. Try the following actions to see how the pie chart is affected.\n",
    "\n",
    "1. Change the states in the filtered table. Can you input your own state? Note: If you change the number of states, you’ll also have to change the colors and explode lists further down.\n",
    "\n",
    "2. Change the colors in the colors list. Change the numbers in the explode list. How does it affect the chart?\n",
    "\n",
    "3. Change the number for the startangle to explore what this parameter does. Hint: You can choose a number between 0 and 360.\n",
    "\n",
    "4. What do you think the autopct parameter does?\n",
    "\n",
    "5. Change the location of the legend. Your choices are:\n",
    "\n",
    "    - best\n",
    "    - upper right\n",
    "    - upper left\n",
    "    - lower left\n",
    "    - lower right\n",
    "    - right\n",
    "    - center left\n",
    "    - center right\n",
    "    - lower center\n",
    "    - upper center\n",
    "    - center\n",
    "\n",
    "Data Source:\n",
    "https://codap.concord.org/releases/latest/static/dg/en/cert/index.html?url=https://concord-consortium.github.io/codap-data/SampleDocs/Social_Science/United_States/statesnpeople/States_and_Education.codap"
   ]
  },
  {
   "cell_type": "code",
   "execution_count": null,
   "metadata": {},
   "outputs": [],
   "source": [
    "import pandas as pd\n",
    "import matplotlib.pyplot as plt\n",
    "\n",
    "df = pd.read_csv (r\"State.csv\")\n",
    "pd.set_option(\"display.max_columns\", None)\n",
    "\n",
    "# Set the index to the name of the state\n",
    "# This will make filtering by state easier\n",
    "df.set_index(\"state\", inplace=True)\n",
    "\n",
    "# Create a new filtered table\n",
    "filtered_table = df.loc[[\"Indiana\", \"New York\", \"Georgia\"]]\n",
    "\n",
    "# Specify the colors used\n",
    "colors = [\"lightcoral\", \"lightskyblue\", \"gold\"]\n",
    "\n",
    "# Set the middle section (New York) to \"explode\"\n",
    "explode = [0, 0.1, 0]\n",
    "\n",
    "# Plot the pie chart using the filtered table, and organizing it by the tertiary education column\n",
    "filtered_table.plot.pie(y=\"Tertiary Education\", colors=colors, explode=explode, startangle=45, autopct=\"%1.1f%%\")\n",
    "\n",
    "# Move the legend to the best location\n",
    "plt.legend(loc=\"upper right\")\n",
    "\n",
    "plt.show()"
   ]
  },
  {
   "cell_type": "markdown",
   "metadata": {},
   "source": [
    "# Example: School Scatterplot\n",
    "\n",
    "This data set lists the age, height, and weight of children in a specific school. You may need to adjust the window size of your browser screen to view the entire graph.\n",
    "\n",
    "Try the following actions to see how the scatterplot is affected.\n",
    "\n",
    "1. Change the x and y variables. Try age vs. weight or height vs. weight. Do you see any patterns?\n",
    "\n",
    "2. Change the color and the size (s). What does this change in the scatterplot?\n",
    "\n",
    "Data Source:\n",
    "\n",
    "https://codap.concord.org/releases/latest/static/dg/en/cert/index.html?url=https://concord-consortium.github.io/codap-data/SampleDocs/Education/School_Children/School_Children.json"
   ]
  },
  {
   "cell_type": "code",
   "execution_count": null,
   "metadata": {},
   "outputs": [],
   "source": [
    "import pandas as pd\n",
    "import matplotlib.pyplot as plt\n",
    "\n",
    "df = pd.read_csv (r\"school.csv\")\n",
    "pd.set_option(\"display.max_columns\", None)\n",
    "\n",
    "# Plot a scatterplot using age and height\n",
    "df.plot(kind=\"scatter\", x=\"age\", y=\"height\", color = \"orange\", s = 10)\n",
    "\n",
    "plt.show()"
   ]
  },
  {
   "cell_type": "markdown",
   "metadata": {},
   "source": [
    "# Problem 1 - Debugging : Debug the Pie\n",
    "\n",
    "The pie chart displayed has an error, which makes it a misleading visual. Its purpose is to correctly list and compare the percentages of state populations that have a tertiary (college or tech school) education amongst just a few states. Find the bug in the program and fix it so that the program displays an accurate pie chart.\n",
    "\n",
    "The formatting can also be improved. Can you fix the chart where some of the items overlap?\n",
    "\n",
    "Data Source:\n",
    "https://codap.concord.org/releases/latest/static/dg/en/cert/index.html?url=https://concord-consortium.github.io/codap-data/SampleDocs/Social_Science/United_States/statesnpeople/States_and_Education.codap"
   ]
  },
  {
   "cell_type": "code",
   "execution_count": null,
   "metadata": {},
   "outputs": [],
   "source": [
    "import pandas as pd\n",
    "import matplotlib.pyplot as plt\n",
    "\n",
    "df = pd.read_csv (r\"State.csv\")\n",
    "pd.set_option(\"display.max_columns\", None)\n",
    "\n",
    "# Set the index to the name of the state\n",
    "# This will make filtering by state easier\n",
    "df.set_index(\"state\", inplace=True)\n",
    "\n",
    "# Create a new filtered table\n",
    "filtered_table = df.loc[[\"Colorado\", \"Illinois\", \"New York\", \"California\",\"Delaware\", \"Illinois\" ]]\n",
    "\n",
    "# Plot the pie chart using the filtered table, and organizing it by the total population\n",
    "filtered_table.plot.pie(y=\"Total_Pop\", autopct=\"%1.1f%%\")\n",
    "\n",
    "# Move the legend to the best location\n",
    "plt.legend(loc=\"upper left\")\n",
    "\n",
    "plt.show()"
   ]
  },
  {
   "cell_type": "markdown",
   "metadata": {},
   "source": [
    "# Problem 2 - Debugging : Pet Bug?\n",
    "\n",
    "A survey was taken to find out which type of pet each student in a classroom had. The histogram shown is misleading.\n",
    "\n",
    "1. What makes the graph misleading?\n",
    "\n",
    "2. Find the “bug” and remove it from the program.\n",
    "\n",
    "3. Explore: Adjust the values in the bins list. How does it affect the histogram? Learn more about bins here."
   ]
  },
  {
   "cell_type": "code",
   "execution_count": null,
   "metadata": {},
   "outputs": [],
   "source": [
    "import pandas as pd\n",
    "import matplotlib.pyplot as plt\n",
    "\n",
    "student_pets = pd.Series([\"Dog\", \"Cat\", \"Dog\", \"Cat\", \"Fish\", \"Fish\", \"Ferret\", \"Hamster\", \"Dog\", \"Cat\", \"Fish\", \"Hamster\", \"Dog\", \"Dog\", \"Dog\"])\n",
    "\n",
    "plt.title(\"Student Pets\", fontsize=22)\n",
    "plt.xlabel(\"Type of Pet\")\n",
    "plt.ylabel(\"Number of Pets\")\n",
    "plt.ylim([1, 7])\n",
    "\n",
    "plt.hist(student_pets, edgecolor=\"black\", bins=[-0.5, 0.5, 1.5, 2.5, 3.5, 4.5])\n",
    "plt.show()"
   ]
  }
 ],
 "metadata": {
  "language_info": {
   "name": "python"
  },
  "orig_nbformat": 4
 },
 "nbformat": 4,
 "nbformat_minor": 2
}
