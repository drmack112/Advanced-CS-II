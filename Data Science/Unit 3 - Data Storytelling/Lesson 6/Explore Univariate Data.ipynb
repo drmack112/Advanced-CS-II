{
 "cells": [
  {
   "cell_type": "markdown",
   "metadata": {},
   "source": [
    "# Problem 1 - Pie Chart or Boxplot\n",
    "\n",
    "**Univariate** data focuses on one variable or one type of data.\n",
    "\n",
    "- Use this item to explore one column of data for your data storytelling project.\n",
    "\n",
    "- Create either a pie chart or a boxplot.\n",
    "\n",
    "- What interpretations or conclusions can you make?\n",
    "\n",
    "- What does the story tell?"
   ]
  },
  {
   "cell_type": "code",
   "execution_count": null,
   "metadata": {},
   "outputs": [],
   "source": [
    "#code here"
   ]
  },
  {
   "cell_type": "markdown",
   "metadata": {},
   "source": [
    "# Problem 2 - Histogram\n",
    "\n",
    "Use this item to explore one column of data for your data storytelling project.\n",
    "\n",
    "- Create a histogram and overlay a normal distribution on top of your data.\n",
    "\n",
    "- How well (or not well) does the data fit the normal distribution?\n",
    "\n",
    "- What interpretations or conclusions can you make?\n",
    "\n",
    "- What does the story tell?"
   ]
  },
  {
   "cell_type": "code",
   "execution_count": null,
   "metadata": {},
   "outputs": [],
   "source": [
    "#code here"
   ]
  },
  {
   "cell_type": "markdown",
   "metadata": {},
   "source": [
    "# Problem 3 - Finding the Univariate Story\n",
    "\n",
    "**Univariate** data focuses on one variable or one type of data.\n",
    "\n",
    "- What has the univariate data of your project revealed to you?\n",
    "\n",
    "- What would you like to explore further?"
   ]
  },
  {
   "cell_type": "code",
   "execution_count": null,
   "metadata": {},
   "outputs": [],
   "source": [
    "#Answer here"
   ]
  }
 ],
 "metadata": {
  "language_info": {
   "name": "python"
  },
  "orig_nbformat": 4
 },
 "nbformat": 4,
 "nbformat_minor": 2
}
