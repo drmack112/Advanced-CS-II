{
 "cells": [
  {
   "cell_type": "markdown",
   "metadata": {},
   "source": [
    "# Problem 1 - Outline the Story Arc\n",
    "\n",
    "In this item, you will outline and draft the story arc that you’d like to tell.\n",
    "\n",
    "There should be a beginning (an introduction), a middle (the data and your interpretations), and an end (the conclusion).\n",
    "\n",
    "A few things to consider:\n",
    "\n",
    "- Which type of story would you like to tell?\n",
    "\n",
    "[link here](https://idatassist.com/9-data-narratives-you-should-know-to-tell-a-powerful-story/)\n",
    "\n",
    "- Who is your audience? How will you ensure that the story is told in language that they will understand?"
   ]
  },
  {
   "cell_type": "code",
   "execution_count": null,
   "metadata": {},
   "outputs": [],
   "source": [
    "# answers go here"
   ]
  },
  {
   "cell_type": "markdown",
   "metadata": {},
   "source": [
    "# Problem 2 - Draft a Design\n",
    "\n",
    "For this activity, you’ll take some time to explore data storytelling designs and draft your own.\n",
    "\n",
    "Explore this website to see different data storytelling designs.\n",
    "\n",
    "[Link](https://community.storytellingwithdata.com/discover)\n",
    "\n",
    "You can draft your design on paper, in a PowerPoint, or in a teacher-approved program of your choice.\n",
    "\n",
    "You can place the link to the design in this item. If you need to upload a picture, do so."
   ]
  },
  {
   "cell_type": "code",
   "execution_count": null,
   "metadata": {},
   "outputs": [],
   "source": [
    "# answers here"
   ]
  },
  {
   "cell_type": "markdown",
   "metadata": {},
   "source": [
    "# Problem 3 - Peer Review\n",
    "\n",
    "Once you have completed a design draft, you will switch data stories with another student for a peer review.\n",
    "\n",
    "A peer review is an important part of the research process because it provides a way of checking the validity, credibility, and quality of the research.\n",
    "\n",
    "You should also give your partner a chance to look through your code (without changing it!) to see how the data was used and interpreted.\n",
    "\n",
    "As you look through your partner’s work, consider the following:\n",
    "\n",
    "1. Is the design visually appealing and easy to follow?\n",
    "\n",
    "2. Are ideas structured well and expressed clearly?\n",
    "\n",
    "3. Are there any assumptions or possible sources of bias in the data, the analysis, or visualizations?\n",
    "\n",
    "4. Name one aspect that is done well.\n",
    "\n",
    "5. Name one improvement that could be added or fixed.\n",
    "\n",
    "After hearing from your partner’s review, list steps that you will take to improve your data story as you create the final draft."
   ]
  },
  {
   "cell_type": "code",
   "execution_count": null,
   "metadata": {},
   "outputs": [],
   "source": [
    "#answers go here"
   ]
  },
  {
   "cell_type": "markdown",
   "metadata": {},
   "source": [
    "# Problem 4 - Final Draft\n",
    "\n",
    "Now it’s time to submit your final draft!\n",
    "\n",
    "Include the link to your final project in this item. If you need to upload a picture, please do so.\n"
   ]
  },
  {
   "cell_type": "code",
   "execution_count": null,
   "metadata": {},
   "outputs": [],
   "source": [
    "#answers go here"
   ]
  }
 ],
 "metadata": {
  "language_info": {
   "name": "python"
  },
  "orig_nbformat": 4
 },
 "nbformat": 4,
 "nbformat_minor": 2
}
