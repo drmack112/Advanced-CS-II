{
 "cells": [
  {
   "cell_type": "markdown",
   "metadata": {},
   "source": [
    "# Example: Cheese vs. Rain\n",
    "A **spurious** relationship is when two variables are correlated, but clearly unrelated. To determine causation, you must be able to:\n",
    "\n",
    "- Create an observed association (correlation)\n",
    "\n",
    "- Prove that the independent variable occurs before the dependent one\n",
    "\n",
    "- Rule out other potential causes\n",
    "\n",
    "Explore this example that correlates the relationship between the per capita consumption of American cheese in the US with the precipitation amounts in Arkansas.\n",
    "\n",
    "1. The r-value is 0.87. What kind of correlation does this represent?\n",
    "\n",
    "2. Even though the scatterplots are in different parts of the graph, do they look as though they increase and decrease at the same time?\n",
    "\n",
    "3. Why would this be considered a spurious relationship?"
   ]
  },
  {
   "cell_type": "code",
   "execution_count": null,
   "metadata": {},
   "outputs": [],
   "source": [
    "import pandas as pd\n",
    "import numpy as np\n",
    "import matplotlib.pyplot as plt\n",
    "\n",
    "cheese = pd.read_csv (r\"cheese.csv\")\n",
    "precipitation = pd.read_csv (r\"precipitation.csv\")\n",
    "\n",
    "x = cheese.year\n",
    "y1 = cheese.pounds\n",
    "y2 = precipitation.inches\n",
    "\n",
    "correlation = y1.corr(y2)\n",
    "print(correlation) \n",
    "\n",
    "\n",
    "# adds the title\n",
    "plt.title('Cheese vs. Rain')\n",
    "plt.xlabel('Year')\n",
    "plt.ylabel('Inches/Pounds')\n",
    "  \n",
    "# plot the data\n",
    "plt.scatter(x, y1)\n",
    "plt.scatter(x, y2)\n",
    "\n",
    "plt.show()"
   ]
  },
  {
   "cell_type": "markdown",
   "metadata": {},
   "source": [
    "# Problem 1 - Spurious Correlation\n",
    "\n",
    "In the last activity, we looked at an existing spurious correlation. In the next activity, you will create one of your own!\n",
    "\n",
    "This website, Spurious Correlations, allows you to find correlations between variables that don’t have a causal relationship to one another.\n",
    "\n",
    "https://tylervigen.com/discover\n",
    "\n",
    "Follow the steps provided to create your own spurious relationship.\n",
    "\n",
    "1. Go to the Spurious Correlations website.\n",
    "\n",
    "2. Pick a variable type that is of interest to you and then click **View Variables**.\n",
    "\n",
    "3. This will load a new drop down menu with a list of variables that fit the category that you chose. Pick one, and click **Correlate**.\n",
    "\n",
    "4. You should now have a list of variables that correlate with the variable that you chose. Pick one of these variables and click **Chart**.\n",
    "\n",
    "Once you have your chart, use the data shown to recreate the chart and calculate the r-value in this item.\n",
    "\n",
    "1. Create TWO csv files, using the sidebar on the left.\n",
    "\n",
    "2. Copy and paste the data from both variables. One variable in each file.\n",
    "\n",
    "3. Import the data and name your x, y1 and y2 values.\n",
    "\n",
    "4. Graph a scatterplot for variables x and y1.\n",
    "\n",
    "5. Graph a scatterplot for variables x and y2.\n",
    "\n",
    "6. Determine the correlation between y1 and y2."
   ]
  },
  {
   "cell_type": "code",
   "execution_count": null,
   "metadata": {},
   "outputs": [],
   "source": [
    "import pandas as pd\n",
    "import numpy as np\n",
    "import matplotlib.pyplot as plt"
   ]
  },
  {
   "cell_type": "markdown",
   "metadata": {},
   "source": [
    "# Problem 2 - Spurious Correlation Reflection\n",
    "\n",
    "It turns out that a lot of different variables are correlated to one another, even though they don’t really have any relationship.\n",
    "\n",
    "The website Spurious Correlations highlights many of the ridiculous data points that are unrelated, yet have a strong correlation.\n",
    "\n",
    "Using the information from the spurious relationship that you created in the previous item, answer the following questions.\n",
    "\n",
    "1. What was the correlation of the two variables that you choose? Describe the relationship between these two variables. Are they positively or negatively correlated?\n",
    "\n",
    "2. What makes this a spurious correlation? Consider the three conditions that need to be proven to make something a causal relationship.\n",
    "\n",
    "    - Create an observed association (correlation)\n",
    "\n",
    "    - Prove that the independent variable occurs before the dependent one\n",
    "\n",
    "    - Rule out other potential causes\n",
    "\n",
    "3. What other reasons might be responsible for the relationhip between the two variables that you chose. Could there be any moderating or mediating variables that cuase this realationhip?"
   ]
  },
  {
   "cell_type": "code",
   "execution_count": null,
   "metadata": {},
   "outputs": [],
   "source": [
    "#Answers go here"
   ]
  },
  {
   "cell_type": "markdown",
   "metadata": {},
   "source": [
    "# Problem 3 - Moderators and Mediators\n",
    "\n",
    "This article includes highlights and an abstract section of a research study. An abstract is just a short summary of the completed research. Read the two sections and consider the following questions.\n",
    "\n",
    "1. It lists that physical activity and body image are positively associated among men. What do you think the r-value should be for them to be able to make this conclusion?\n",
    "\n",
    "2. Age and the intensity of physical activity are listed as moderators in this study. How do you think they moderate the results? How would age and intensity strengthen or weaken the relationship?\n",
    "\n",
    "3. What could be a possible mediating variable between physical activity and body image?\n",
    "\n",
    "4. What would you like to know more about in order to trust the results of this study?\n",
    "\n",
    "Source:\n",
    "Bassett-Gunter, Rebecca, et al. “Physical Activity and Body Image among Men and Boys: A Meta-Analysis.” Body Image, Elsevier, 27 July 2017, https://www.sciencedirect.com/science/article/abs/pii/S1740144516303758?via%3Dihub."
   ]
  },
  {
   "cell_type": "code",
   "execution_count": null,
   "metadata": {},
   "outputs": [],
   "source": [
    "# answer here"
   ]
  }
 ],
 "metadata": {
  "language_info": {
   "name": "python"
  },
  "orig_nbformat": 4
 },
 "nbformat": 4,
 "nbformat_minor": 2
}
