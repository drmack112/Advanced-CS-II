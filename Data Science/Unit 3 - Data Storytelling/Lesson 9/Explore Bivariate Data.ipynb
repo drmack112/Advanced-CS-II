{
 "cells": [
  {
   "cell_type": "markdown",
   "metadata": {},
   "source": [
    "# Problem 1 - Linear Regression\n",
    "\n",
    "Use this item to explore possible relationships between two columns of your data.\n",
    "\n",
    "1. Plot the scatterplot and determine the correlation.\n",
    "\n",
    "2. Create a model using the polyfit() function and use the model to plot the line of best fit.\n",
    "\n",
    "3. Can you use the model equation to make predictions based on different values?"
   ]
  },
  {
   "cell_type": "code",
   "execution_count": null,
   "metadata": {},
   "outputs": [],
   "source": []
  },
  {
   "cell_type": "markdown",
   "metadata": {},
   "source": [
    "# Problem 2 - Finding the Bivariate Story\n",
    "\n",
    "**Bivariate data** focuses on a relationship between two (or more) variables.\n",
    "\n",
    "- What has the bivariate data of your project revealed to you?\n",
    "\n",
    "- What would you like to explore further?\n"
   ]
  },
  {
   "cell_type": "code",
   "execution_count": null,
   "metadata": {},
   "outputs": [],
   "source": [
    "#answers go here"
   ]
  }
 ],
 "metadata": {
  "language_info": {
   "name": "python"
  },
  "orig_nbformat": 4
 },
 "nbformat": 4,
 "nbformat_minor": 2
}
