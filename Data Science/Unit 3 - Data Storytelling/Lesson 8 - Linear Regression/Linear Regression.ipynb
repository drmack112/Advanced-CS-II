{
 "cells": [
  {
   "cell_type": "markdown",
   "metadata": {},
   "source": [
    "# Example: Old Faithful Model\n",
    "\n",
    "This dataset lists the eruption time (in minutes) of the Old Faithful geyser as well as the wait time, or time in between eruptions.\n",
    "\n",
    "- **Before running the code**, do you think there might be a correlation between wait time and eruption time of the Old Faithful geyser?\n",
    "\n",
    "- **Run the code** to see the scatterplot. Also, look at the console to see the model. Be sure to read the comments and match the code to the output.\n",
    "\n",
    "- What does the correlation coefficient tell you about the relationship between wait time and eruption time?\n",
    "\n",
    "Source: https://people.sc.fsu.edu/~jburkardt/datasets/stats/stats.html"
   ]
  },
  {
   "cell_type": "code",
   "execution_count": null,
   "metadata": {},
   "outputs": [],
   "source": [
    "import pandas as pd\n",
    "import numpy as np\n",
    "import matplotlib.pyplot as plt\n",
    "\n",
    "# Import the data\n",
    "df = pd.read_csv (r\"faithful.csv\")\n",
    "\n",
    "# Set values for x and y\n",
    "x = df.wait_time\n",
    "y = df.eruption_time\n",
    "\n",
    "# Determine correlation\n",
    "correlation = y.corr(x)\n",
    "print(\"Correlation: \" + str(correlation)) \n",
    "\n",
    "# Add labels\n",
    "plt.title(\"Old Faithful Eruptions\")\n",
    "plt.xlabel(\"Wait Time\")\n",
    "plt.ylabel(\"Eruption Time\")\n",
    "\n",
    "# Plot the scatterplot\n",
    "plt.scatter(x, y)\n",
    "\n",
    "# Create the model\n",
    "model = np.polyfit(x, y, 1)\n",
    "print(model)\n",
    "\n",
    "# Print the line of best fit\n",
    "m = str(round(model[0], 2))\n",
    "b = str(round(model[1], 2))\n",
    "\n",
    "print(\"Model: y = \" + m +\"x + \" + b)\n",
    "\n",
    "plt.show()"
   ]
  },
  {
   "cell_type": "markdown",
   "metadata": {},
   "source": [
    "# Problem 1 - Swim Time Model\n",
    "\n",
    "This dataset lists the gold medalist time for the women’s 400-meter freestyle swimming finals.\n",
    "\n",
    "1. Import the data and set values for x and y.\n",
    "\n",
    "2. Determine the correlation.\n",
    "\n",
    "3. Plot the scatterplot.\n",
    "\n",
    "4. Create a model using the polyfit() function.\n",
    "\n",
    "5. Print the information from the model. What is the line of best fit?\n",
    "\n",
    "Source: https://en.wikipedia.org/wiki/List_of_Olympic_medalists_in_swimming_(women)#400_metres_freestyle"
   ]
  },
  {
   "cell_type": "code",
   "execution_count": null,
   "metadata": {},
   "outputs": [],
   "source": [
    "import pandas as pd\n",
    "import numpy as np\n",
    "import matplotlib.pyplot as plt\n",
    "\n",
    "# Import the data\n",
    "df = pd.read_csv (r\"swim_times.csv\")"
   ]
  },
  {
   "cell_type": "markdown",
   "metadata": {},
   "source": [
    "# Example: Predicting Old Faithful\n",
    "\n",
    "- **Before running the code**:\n",
    "The model equation that was discovered in the last example was Model: y = 0.08x + -1.87. Using this, what do you predict that the eruption time will be if the wait time is 60 minutes?\n",
    "\n",
    "- **Run the code**. Look at the console to see the prediction. Be sure to read the comments and match the code to the output.\n",
    "\n",
    "- Find the variable `my_wait_time` and change its value. Run the code to see the new corresponding predicted value.\n",
    "\n",
    "Source: https://people.sc.fsu.edu/~jburkardt/datasets/stats/stats.html"
   ]
  },
  {
   "cell_type": "code",
   "execution_count": null,
   "metadata": {},
   "outputs": [],
   "source": [
    "import pandas as pd\n",
    "import numpy as np\n",
    "import matplotlib.pyplot as plt\n",
    "\n",
    "# Import the data\n",
    "df = pd.read_csv (r\"faithful.csv\")\n",
    "\n",
    "# Set values for x and y\n",
    "x = df.wait_time\n",
    "y = df.eruption_time\n",
    "\n",
    "# Determine correlation\n",
    "correlation = y.corr(x)\n",
    "print(\"Correlation: \" + str(correlation))  \n",
    "\n",
    "# Add labels\n",
    "plt.title(\"Old Faithful Eruptions\")\n",
    "plt.xlabel(\"Wait Time\")\n",
    "plt.ylabel(\"Eruption Time\")\n",
    "  \n",
    "# Plot the scatterplot\n",
    "plt.scatter(x, y)\n",
    "\n",
    "# Create the model\n",
    "model = np.polyfit(x, y, 1)\n",
    "print(model)\n",
    "\n",
    "# Predict using the model\n",
    "predict = np.poly1d(model)\n",
    "\n",
    "my_wait_time = 60\n",
    "\n",
    "my_eruption_time = round(predict(my_wait_time), 2)\n",
    "\n",
    "print(\"If you wait \" + str(my_wait_time) + \" minutes between eruptions, it is predicted that the eruption time of Old Faithful will be \" + str(my_eruption_time) + \" minutes long.\")\n",
    "\n",
    "plt.show()"
   ]
  },
  {
   "cell_type": "markdown",
   "metadata": {},
   "source": [
    "# Problem 2 - Predicting Swim Times\n",
    "\n",
    "Copy over your data from the last Swim Times exercise\n",
    "\n",
    "1. Use the model equation to make a prediction based on a value.\n",
    "\n",
    "**Advanced*:*\n",
    "Utilize user input to have the user input a value that then prints the corresponding prediction.\n",
    "\n",
    "Source: https://en.wikipedia.org/wiki/List_of_Olympic_medalists_in_swimming_(women)#400_metres_freestyle"
   ]
  },
  {
   "cell_type": "code",
   "execution_count": null,
   "metadata": {},
   "outputs": [],
   "source": [
    "import pandas as pd\n",
    "import numpy as np\n",
    "import matplotlib.pyplot as plt\n",
    "\n",
    "# Import the data\n",
    "df = pd.read_csv (r\"swim_times.csv.csv\")\n",
    "\n"
   ]
  },
  {
   "cell_type": "markdown",
   "metadata": {},
   "source": [
    "# Example: Old Faithful Regression\n",
    "\n",
    "- **Run the code**. Look at the console to see the minimum and maximum x-values. These values are used in the range() function when plotting the line of best fit. Note: The range must consist of integers and not floats.\n",
    "\n",
    "- Be sure to read the comments and match the code to the output.\n",
    "\n",
    "Source: https://people.sc.fsu.edu/~jburkardt/datasets/stats/stats.html"
   ]
  },
  {
   "cell_type": "code",
   "execution_count": null,
   "metadata": {},
   "outputs": [],
   "source": [
    "import pandas as pd\n",
    "import numpy as np\n",
    "import matplotlib.pyplot as plt\n",
    "\n",
    "# Import the data\n",
    "df = pd.read_csv (r\"faithful.csv\")\n",
    "\n",
    "# Set values for x and y\n",
    "x = df.wait_time\n",
    "y = df.eruption_time\n",
    "\n",
    "# Determine correlation\n",
    "correlation = y.corr(x)\n",
    "print(\"Correlation: \" + str(correlation)) \n",
    "\n",
    "# Add labels\n",
    "plt.title(\"Old Faithful Eruptions\")\n",
    "plt.xlabel(\"Wait Time\")\n",
    "plt.ylabel(\"Eruption Time\")\n",
    "  \n",
    "# Plot the scatterplot\n",
    "plt.scatter(x, y)\n",
    "\n",
    "# Create the model\n",
    "model = np.polyfit(x, y, 1)\n",
    "\n",
    "# Predict using the model\n",
    "predict = np.poly1d(model)\n",
    "\n",
    "# Determine the min and max values of the x-axis\n",
    "print(df.wait_time.min())\n",
    "print(df.wait_time.max())\n",
    "\n",
    "# Create the line of best fit\n",
    "\n",
    "x_lin_reg = range(43, 96) # range is based on the min and max values\n",
    "y_lin_reg = predict(x_lin_reg)\n",
    "plt.plot(x_lin_reg, y_lin_reg, color = \"red\")\n",
    "  \n",
    "plt.show()"
   ]
  },
  {
   "cell_type": "markdown",
   "metadata": {},
   "source": [
    "# Problem 3 - Swim Time Regression\n",
    "\n",
    "Copy over your data from the last Swim Times exercise\n",
    "\n",
    "1. Determine what the maximum and minimum values should be for the line of best fit.\n",
    "\n",
    "2. Plot the line of best fit.\n",
    "\n",
    "Source: https://en.wikipedia.org/wiki/List_of_Olympic_medalists_in_swimming_(women)#400_metres_freestyle"
   ]
  },
  {
   "cell_type": "code",
   "execution_count": null,
   "metadata": {},
   "outputs": [],
   "source": [
    "import pandas as pd\n",
    "import numpy as np\n",
    "import matplotlib.pyplot as plt\n",
    "\n",
    "# Import the data\n",
    "df = pd.read_csv (r\"swim_times.csv\")\n"
   ]
  },
  {
   "cell_type": "markdown",
   "metadata": {},
   "source": [
    "# Problem 4 - Regression Reflection\n",
    "\n",
    "## Old Faithful\n",
    "1. Do the data points in the scatterplot appear to have a linear relationship? How do you know?\n",
    "\n",
    "2. What does the value of r tell you about this relationship?\n",
    "\n",
    "3. How accurate do you think this model’s predictions are? Do you think this model is accurate enough to reliably predict the length of the next eruption based on the wait time? Why or why not?\n",
    "\n",
    "4. Test your model! Click on this link to watch the next Old Faithful eruption! Based on the wait time, was your prediction correct?\n",
    "https://www.yellowstone.org/old-faithful-streaming-webcam/\n",
    "\n",
    "## Olympic Swim Times\n",
    "1. Do the data points in the scatterplot appear to have a linear relationship? How do you know?\n",
    "\n",
    "2. What does the value of r tell you about this relationship?\n",
    "\n",
    "3. How accurate do you think this model’s predictions are? Do you think this model is accurate enough to reliably predict the next Olympic swim time? Why or why not?\n",
    "\n",
    "4. Test your model! Research and find the gold medal time for the 400-meter women’s freestyle final in the most recent Olympics. Was your prediction correct?"
   ]
  },
  {
   "cell_type": "code",
   "execution_count": null,
   "metadata": {},
   "outputs": [],
   "source": [
    "# Answers go here"
   ]
  }
 ],
 "metadata": {
  "interpreter": {
   "hash": "63fd5069d213b44bf678585dea6b12cceca9941eaf7f819626cde1f2670de90d"
  },
  "kernelspec": {
   "display_name": "Python 3.9.7 64-bit",
   "language": "python",
   "name": "python3"
  },
  "language_info": {
   "name": "python",
   "version": "3.9.7"
  },
  "orig_nbformat": 4
 },
 "nbformat": 4,
 "nbformat_minor": 2
}
