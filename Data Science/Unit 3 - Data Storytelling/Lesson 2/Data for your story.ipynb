{
 "cells": [
  {
   "cell_type": "markdown",
   "metadata": {},
   "source": [
    "# Find and Clean the Data\n",
    "\n",
    "Find the dataset(s) that will help you tell your story.\n",
    "\n",
    "Import and clean your dataset.\n",
    "\n",
    "Considering using the following techniques:\n",
    "\n",
    "- Drop any unnecessary columns.\n",
    "- Check the data types in the dataset. Are they correct or do they need to be changed?\n",
    "- Check for and drop any duplicate rows.\n",
    "- Check for missing values. How many are there?\n",
    "- Determine the best decision for dealing with the missing values and change the dataset. Possible choices are:\n",
    "    - Drop the rows with missing values.\n",
    "    - Drop the columns with missing values.\n",
    "    - Fill in the missing values with a zero.\n",
    "    - Fill in the missing values with an average value.\n",
    "    - Fill in the missing values with the value either before or after the missing value.\n",
    "    - Leave value as missing (missing data can be good data, too!)"
   ]
  },
  {
   "cell_type": "markdown",
   "metadata": {},
   "source": [
    "# Clean Your Data\n",
    "\n",
    "Use this item to import and clean your dataset(s)."
   ]
  },
  {
   "cell_type": "code",
   "execution_count": null,
   "metadata": {},
   "outputs": [],
   "source": [
    "#code here"
   ]
  }
 ],
 "metadata": {
  "language_info": {
   "name": "python"
  },
  "orig_nbformat": 4
 },
 "nbformat": 4,
 "nbformat_minor": 2
}
