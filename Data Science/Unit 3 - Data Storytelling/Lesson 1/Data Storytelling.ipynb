{
 "cells": [
  {
   "cell_type": "markdown",
   "metadata": {},
   "source": [
    "# Project Kickoff: Data Storytelling\n",
    "\n",
    "In this project, you will get to tell your own data story. You will create a visually appealing infographic that displays important data visualizations. The infographic will also tell a story based on your interpretation after exploring and analyzing data.\n",
    "\n",
    "You can choose any topic to start creating your data story. Choose a topic that is of interest or importance to you and will make for a good story!\n",
    "\n",
    "Here are a few topic suggestions:\n",
    "\n",
    "- Wildfires and other Natural Disasters\n",
    "- Effects of Bad Habits on Life Expectancy\n",
    "- Growth of Cybersecurity Attacks\n",
    "- Bridge Programs for First-Generation College Students\n",
    "- Effects of Team-Based Sports for Females\n",
    "- Effects of Food Desserts (Distance to a Grocery Store)\n",
    "- Impact of Taking a Summer Gap Year"
   ]
  },
  {
   "cell_type": "markdown",
   "metadata": {},
   "source": [
    "# Sharks: Friends or Foe?\n",
    "\n",
    "Read and explore the following infographic while considering the question below.\n",
    "\n",
    "1. What aspect(s) of the infographic do you like or find visually appealing?\n",
    "\n",
    "2. What aspect(s) of the infographic is unclear or hard to understand?\n",
    "\n",
    "3. What conclusion is made and told in this data story based on the data analyzed? Explain how the data led to the conclusion.\n",
    "\n",
    "4. What could be potential sources of bias (if any) found in this data story? Consider the way the story is told, the visualizations used and the method(s) the data was analyzed.\n",
    "\n",
    "Source:\n",
    "Storytelling with Data, https://community.storytellingwithdata.com/challenges/dec-2019-infographics/sharks-friend-or-foe/images"
   ]
  },
  {
   "cell_type": "code",
   "execution_count": null,
   "metadata": {},
   "outputs": [],
   "source": [
    "#answer here"
   ]
  },
  {
   "cell_type": "markdown",
   "metadata": {},
   "source": [
    "# Is That True? DUIs and the NFL\n",
    "\n",
    "Read and explore the following infographic while considering the question below.\n",
    "\n",
    "1. What aspect(s) of the infographic do you like or find visually appealing?\n",
    "\n",
    "2. What aspect(s) of the infographic is unclear or hard to understand?\n",
    "\n",
    "3. What conclusion is made and told in this data story based on the data analyzed? Explain how the data led to the conclusion.\n",
    "\n",
    "4. What could be potential sources of bias (if any) found in this data story? Consider the way the story is told, the visualizations used and the method(s) the data was analyzed.\n",
    "\n",
    "Source:\n",
    "Storytelling with Data, https://community.storytellingwithdata.com/challenges/dec-2019-infographics/is-that-true-dui-arrests-of-nfl-players/images"
   ]
  },
  {
   "cell_type": "code",
   "execution_count": null,
   "metadata": {},
   "outputs": [],
   "source": [
    "#answer here"
   ]
  },
  {
   "cell_type": "markdown",
   "metadata": {},
   "source": [
    "# Choosing a Narrative\n",
    "\n",
    "This article by Heather Krause lists 9 different narratives that make for a good data story.\n",
    "\n",
    "Read the article and explore the examples and links that are provided for each type of story.\n",
    "\n",
    "It’s time to choose a topic to base your data story on. Consider the following questions to help guide you in your brainstorming process.\n",
    "\n",
    "1. Which type of story (from the previous article) would you like to tell?\n",
    "\n",
    "2. What topic do you find interesting or important that you’d like to bring awareness to by telling a data story? Feel free to list a couple of options at this point.\n",
    "\n",
    "3. Conduct a bit of preliminary research. Is there a dataset available to help you tell your story? If not, could you create a survey and collect the data yourself?\n",
    "\n",
    "Source:\n",
    "Krause, Heather. “9 Data Narratives You Should Know to Tell a Powerful Story.” Datassist, Datassist, 12 Sept. 2019, https://idatassist.com/9-data-narratives-you-should-know-to-tell-a-powerful-story/."
   ]
  },
  {
   "cell_type": "code",
   "execution_count": null,
   "metadata": {},
   "outputs": [],
   "source": [
    "# answer here"
   ]
  }
 ],
 "metadata": {
  "language_info": {
   "name": "python"
  },
  "orig_nbformat": 4
 },
 "nbformat": 4,
 "nbformat_minor": 2
}
