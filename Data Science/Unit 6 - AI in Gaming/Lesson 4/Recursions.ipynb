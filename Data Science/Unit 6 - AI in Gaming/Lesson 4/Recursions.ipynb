{
 "cells": [
  {
   "cell_type": "markdown",
   "metadata": {},
   "source": [
    "# Example: Summing with Recursion\n",
    "\n",
    "This is an example for this lesson. You are encouraged to play around with it, run and change the code, and learn how it works. When you are done, click continue to go to the next problem."
   ]
  },
  {
   "cell_type": "code",
   "execution_count": null,
   "metadata": {},
   "outputs": [],
   "source": [
    "def sum(num):\n",
    "#This is the base case.\n",
    "    if(num == 0):\n",
    "        print(\"Returning base case:\", num)\n",
    "        return 0\n",
    "    #This is the recursive call\n",
    "    print(\"Executing recursive case: sum(\", num, \")\")\n",
    "    return num + sum(num - 1)\n",
    "\n",
    "\n",
    "##Try changing this number and checking the results\n",
    "print(sum(5))"
   ]
  },
  {
   "cell_type": "markdown",
   "metadata": {},
   "source": [
    "# Problem 1 - Factorials with Recursion\n",
    "\n",
    "For this problem, you are going to write a recursive function to calculate the factorial of a number. A factorial is the product of an integer and all the integers below it. For example, 4 factorial (written as 4!) is the product of 4 * 3 * 2 * 1.\n",
    "\n",
    "This function should be similar to the summing example we looked at earlier.\n",
    "\n",
    "To get started, try determining the base case - what’s the simplest or smallest value that will be returned to the program?\n",
    "\n",
    "Note: Make sure you enter small numbers to test. Factorial will overflow the int value very quickly!"
   ]
  },
  {
   "cell_type": "code",
   "execution_count": null,
   "metadata": {},
   "outputs": [],
   "source": [
    "#A factorial is a number multiplied by each positive integer smaller\n",
    "#than itself. For example, 4 factorial (written as 4!) is 4 * 3 * 2 * 1\n",
    "\n",
    "def factorial(num):\n",
    "    #base case\n",
    "    \n",
    "    #recursive case\n",
    "    \n",
    "print(factorial(4))\n",
    "print(factorial(6))\n",
    "#The result should be 720"
   ]
  },
  {
   "cell_type": "markdown",
   "metadata": {},
   "source": [
    "# Problem 2 - Countdown!\n",
    "\n",
    "For this exercise, you are going to write a recursive function that counts down to a Blastoff!\n",
    "\n",
    "Your recursive function will not actually print. It will return a `String` that can be printed. Each recursive call will add on to that string.\n",
    "\n",
    "Outside of your `countdown` function, you should prompt the user for a starting value, then print the results.\n",
    "\n",
    "Sample Output\n",
    "Please enter a number to start: \n",
    "5\n",
    "5 4 3 2 1 Blastoff!\n",
    "**Hint:**\n",
    "- To find the base case, what’s the last thing that we want added to the String? What number comes before that value?"
   ]
  },
  {
   "cell_type": "code",
   "execution_count": null,
   "metadata": {},
   "outputs": [],
   "source": [
    "#define countdown function:\n",
    "def countdown(num):\n",
    "    #base case\n",
    "    \n",
    "    #recursive case\n",
    "\n",
    "\n",
    "#prompt the user to enter a number\n",
    "\n",
    "#print countdown"
   ]
  },
  {
   "cell_type": "markdown",
   "metadata": {},
   "source": [
    "# Problem 3 - Reverse a String\n",
    "\n",
    "Create a recursive function that reverses the value of a String.\n",
    "\n",
    "For example, the call `reverse(\"Karel\")` would return `'leraK'`.\n",
    "\n",
    "To find the base case, consider how we found the solution to the `sum` function. Each time, we reduced the value of num to get to a single value - how can we reduce a String to a single value?"
   ]
  },
  {
   "cell_type": "code",
   "execution_count": null,
   "metadata": {},
   "outputs": [],
   "source": [
    "#define the reverse function\n",
    "def reverse(word):\n",
    "    #base case\n",
    "\n",
    "    #recursive case\n",
    "\n",
    "print(reverse(\"Karel\"))"
   ]
  },
  {
   "cell_type": "markdown",
   "metadata": {},
   "source": [
    "# Problem 4 - Bacteria Cultures\n",
    "\n",
    "A chemistry teacher asked her class to answer the following question:\n",
    "\n",
    "“If I put 10 bacteria on the classroom doorknob tonight, how many bacteria will be on the doorknob by the time we come to school tomorrow?”\n",
    "\n",
    "In order to answer this question, you need to know a few things:\n",
    "\n",
    "1. Each bacterium (a single bacteria) can create 2 more bacteria every hour\n",
    "2. This means that after one hour, the doorknob will have 10 + 10 * 2 = 30 bacteria, since we started with 10 bacteria and each of those created 2 more.\n",
    "3. This means that after two hours, the doorknob will have 30 + 30 * 2 = 90, since there were 30 bacteria at the beginning of hour two, and during that hour each bacteria created 2 more bacteria.\n",
    "4. Continuing this pattern, the number of bacteria on the doorknob after N hours is\n",
    "numberOfBacteriaLastHour + numberOfBacteriaLastHour * 2\n",
    "5. However, if we wanted to know how many bacteria are alive after 12 hours, we need to know how many bacteria were alive at hour 11. To find out how many bacteria are alive at hour 11, we need to figure out how many were alive at hour 10. Do you see how we can use recursion to solve this problem?\n",
    "\n",
    "Write a recursive function that computes the number of bacteria alive after N hours.\n",
    "\n",
    "The function signature is\n",
    "\n",
    "`def numBacteriaAlive(hour)`"
   ]
  },
  {
   "cell_type": "code",
   "execution_count": null,
   "metadata": {},
   "outputs": [],
   "source": [
    "def numBacteriaAlive(hours):\n",
    "    #base case\n",
    "    \n",
    "    #recursive case\n",
    "\n",
    "\n",
    "num_hours = int(input(\"Enter the number of hours the bacteria will sit: \"))\n",
    "print(\"After\", num_hours, \"hours, there will be\", numBacteriaAlive(num_hours), \"bacteria.\")\n"
   ]
  },
  {
   "cell_type": "markdown",
   "metadata": {},
   "source": [
    "# Exploring Recursion and Tic Tac Toe\n",
    "Now that you’ve had a chance to practice recursion in some exercises, let’s return to our Tic Tac Toe game. Follow the directions in the handout to start thinking about how you might be able to apply recursion to your Tic Tac Toe game.\n",
    "\n",
    "You can complete this handout digitially or on a piece of a paper. If you are completing it digitally, click “Make a Copy” and follow your teacher’s directions around naming and location."
   ]
  }
 ],
 "metadata": {
  "language_info": {
   "name": "python"
  },
  "orig_nbformat": 4
 },
 "nbformat": 4,
 "nbformat_minor": 2
}
