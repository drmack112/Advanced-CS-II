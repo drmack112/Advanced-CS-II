{
 "cells": [
  {
   "cell_type": "markdown",
   "metadata": {},
   "source": [
    "# Determine Finite States\n",
    "This [simple game](https://codehs.com/share/id/determine-finite-states-6b8qy0/run) is an example of a non-character player that uses a Finite State Machine algorithm.\n",
    "\n",
    "The goal of this game is to score as many points as possible before triggering an alarm. The alarm occurs when the user (the square) is too close to the guard (the circle). You can move your character by using the arrow keys!\n",
    "\n",
    "In order to get the user to move, you’ll have to first click into the window where the game is being run.\n",
    "\n",
    "Try playing around with this game and answer the following questions about its behavior, and how it might be improved!\n",
    "\n",
    "1. hat are the different finite states that the guard is able to be in?\n",
    "2. What triggers a change in the guard’s behavior? Try outlining a diagram of the different states and the triggers that lead to a transition from one state to another.\n",
    "3. What other states might a programmer add to the guard in order to make this game more challenging or more fun?\n",
    "4. Should this NPC be considered Artificial Intelligence? Why or why not?\n",
    "5. Think of one of your favorite video games. Describe the finite states for one of the non-player characters in that game."
   ]
  },
  {
   "cell_type": "code",
   "execution_count": null,
   "metadata": {},
   "outputs": [],
   "source": []
  },
  {
   "cell_type": "markdown",
   "metadata": {},
   "source": [
    "# The Future of AI in Gaming\n",
    "While most of the Artificial Intelligence found in video games is meant to make the gameplay more realistic, game developers are currently working on ways to incorporate even more sophisticated AI into their game design.\n",
    "\n",
    "Watch this video to learn more about the future of AI in gaming, and answer the following questions.\n",
    "\n",
    "1. How might AI change the way we interact with characters and opponents?\n",
    "2. How could AI make game asset production (creation of characters, sounds, environment, objects) easier? Identify at least two ways.\n",
    "    - Note: Adam mentions GANS, which you may be unfamiliar with. GANS, or generative adversarial network, is an AI model that uses neural networks.\n",
    "\n",
    "Want to learn more? Check out these links that Adam mentions in the video:\n",
    "\n",
    "- Faces created with GANs: [https://www.thispersondoesnotexist.com/](https://www.thispersondoesnotexist.com/)\n",
    "- Quadruped animation: [https://www.youtube.com/watch?v=uFJvRYtjQ4c](https://www.youtube.com/watch?v=uFJvRYtjQ4c)\n",
    "\n",
    "**Source:**\n",
    "Immersive Limit (2019). AI Will Change Game Development. YouTube. [https://www.youtube.com/watch?v=gSYVHrCLpec](https://www.youtube.com/watch?v=gSYVHrCLpec).\n",
    "\n",
    "If you can’t access Youtube, try this safe [link](https://video.link/w/CFS3c)."
   ]
  },
  {
   "cell_type": "code",
   "execution_count": null,
   "metadata": {},
   "outputs": [],
   "source": []
  }
 ],
 "metadata": {
  "language_info": {
   "name": "python"
  },
  "orig_nbformat": 4
 },
 "nbformat": 4,
 "nbformat_minor": 2
}
