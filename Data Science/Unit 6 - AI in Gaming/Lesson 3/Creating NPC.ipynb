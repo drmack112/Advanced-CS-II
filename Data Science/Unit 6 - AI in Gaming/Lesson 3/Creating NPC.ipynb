{
 "cells": [
  {
   "cell_type": "markdown",
   "metadata": {},
   "source": [
    "# Pac-Man NPC Exploration\n",
    "\n",
    "[Pac-Man](https://freepacman.org/) is a classic arcade game. The goal is to eat all of the dots and avoid the ghosts. Play a few rounds.\n",
    "\n",
    "As you play, use these questions to think about how AI is used to program the ghosts (non-player characters, or NPCs):\n",
    "\n",
    "1. What type of AI is used to program the ghosts?\n",
    "2. What are the specific states of the NPCs? What causes each one?\n",
    "3. To what extent does the AI contribute to making this game fun or boring?\n",
    "4. What is another games you have played that has NPCs? What type of AI is used to program the NPCs? What makes the use of AI effective or ineffective?"
   ]
  },
  {
   "cell_type": "code",
   "execution_count": null,
   "metadata": {},
   "outputs": [],
   "source": []
  },
  {
   "cell_type": "markdown",
   "metadata": {},
   "source": [
    "# Building a Non Player Character for Tic Tac Toe\n",
    "In this lesson, we will develop a non-player character (NPC) to play Tic Tac Toe against a user. As we learned in the previous lesson, an NPC is any character in a game that is not controlled by a player. For this project, we are going to develop **three** different NPCs:\n",
    "\n",
    "1. Random NPC - this NPC will randomly place pieces on available slots on the Tic Tac Toe board.\n",
    "\n",
    "2. Unbeatable NPC - we will create an NPC that will never lose to a human player.\n",
    "\n",
    "3. Realistic NPC - In the final iteration, we will create an NPC that makes winning Tic Tac Toe difficult, but not impossible.\n",
    "\n",
    "Each NPC will be built off of the previous version that we create, illustrating how gameplay has evolved over the years.\n",
    "\n",
    "Let’s get started!"
   ]
  },
  {
   "cell_type": "markdown",
   "metadata": {},
   "source": [
    "# Tic Tac Toe with Random NPC\n",
    "In this exercise, we are going to build a version of Tic Tac Toe that uses a random non-player character (NPC).\n",
    "\n",
    "In the case of Tic Tac Toe, a random NPC will place its piece (“O”) randomly on an available board slot.\n",
    "\n",
    "To get started, copy your completed Tic Tac Toe program from the previous lesson. To complete this assignment, we will only have to make adjustments to our `take_turn` function. When it’s a human `player` “X“‘s turn, the function `take_turn` should operate exactly the same as the previous version. When it is the NPC `player` “O“‘s turn, the piece should be randomly placed on an available space on the board.\n",
    "\n",
    "**Hints**\n",
    "\n",
    "- As a reminder, to get a random number, make use of the random python class. The function randint can be used to generate a random number from a range.\n",
    "- Make use of the `is_valid_move` function to determine if the random space generated is a valid move. Keep generating new row,col pairs until you get a valid move."
   ]
  },
  {
   "cell_type": "code",
   "execution_count": null,
   "metadata": {},
   "outputs": [],
   "source": [
    "#use the random class to generate random numbers\n",
    "import random\n",
    "\n",
    "#Copy your code from the 'Complete the Game' exercise in the previous lesson."
   ]
  },
  {
   "cell_type": "markdown",
   "metadata": {},
   "source": [
    "# Random NPC Reflection5 points\n",
    "In the last exercise, we built an NPC that played randomly against a user. Before moving on to the next NPC build, make sure to play against the random NPC at least 3-5 times.\n",
    "\n",
    "Based on your interactions with the random NPC, answer the following questions:\n",
    "\n",
    "1. What are the limitations of the random NPC version of this game?\n",
    "2. What are the benefits of using the random NPC version of this game?\n",
    "3. Is this game an example of Artificial Intelligence in gaming? Why or why not?\n",
    "4. How would you improve this game to make it more enjoyable?"
   ]
  },
  {
   "cell_type": "code",
   "execution_count": null,
   "metadata": {},
   "outputs": [],
   "source": []
  }
 ],
 "metadata": {
  "language_info": {
   "name": "python"
  },
  "orig_nbformat": 4
 },
 "nbformat": 4,
 "nbformat_minor": 2
}
