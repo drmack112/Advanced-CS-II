{
 "cells": [
  {
   "cell_type": "markdown",
   "metadata": {},
   "source": [
    "# Problem 1 -  Adding Depth to Minimax\n",
    "\n",
    "Now that we know how to alter the depth of our search, let’s implement this in our minimax function.\n",
    "\n",
    "Add `depth` as a parameter in the `minimax` function definition. Then, in each recursive call to minimax, include the parameter `depth - 1`. This will make sure that each iteration will reduce the depth of the search.\n",
    "\n",
    "Next, alter the base case so that it checks if `depth` has reached 0, and returns a score of 0 if the depth has been reached.\n",
    "\n",
    "Finally, in your call to minimax in the `take_turn` function, include a numerical value for the `depth` that is being searched. Start with the value 4!"
   ]
  },
  {
   "cell_type": "code",
   "execution_count": null,
   "metadata": {},
   "outputs": [],
   "source": [
    "#Copy your code from Complete Game with Minimax here. Then make alterations to minimax!"
   ]
  },
  {
   "cell_type": "markdown",
   "metadata": {},
   "source": [
    "# Evaluating Depth!\n",
    "In the last exercise, we set the depth for minimax to 4. In this exercise, we are going to evaluate the different levels of depth, and how they impact the game play. Please follow the instructions and answer the following questions with complete sentences.\n",
    "\n",
    "1. Set the depth of minimax to 1. Play 5 times. What percentage of the games did you win, lose, and tie? Why do you think that is?\n",
    "\n",
    "2. Set the depth of minimax to 7. Play 5 times. What percentage of the games did you win, lose, and tie? Why do you think that is?\n",
    "\n",
    "3. Play around with the depth by changing the value again and playing a few more games - which depth do you think is best? Why?\n",
    "\n",
    "4. How does the computer’s behavior change as the depth changes?"
   ]
  },
  {
   "cell_type": "code",
   "execution_count": null,
   "metadata": {},
   "outputs": [],
   "source": []
  },
  {
   "cell_type": "markdown",
   "metadata": {},
   "source": [
    "# Alpha Beta Pruning Speed\n",
    "[This program](https://codehs.com/share/id/alpha-beta-pruning-speed-O4Ny4d/run) compares the speed of minimax without alpha beta pruning to the speed of minimax with alpha beta pruning. Run the program and observe the results. Use the following free response to answer these questions:\n",
    "\n",
    "1. Which minimax is faster? How much faster? Based on what you know, why is that the case?\n",
    "\n",
    "2. oes the number of moves left impact how much faster one minimax is compared to the other? How? Why do you think that is?\n",
    "\n",
    "3. For other games that use minimax, why is this change in speed important?"
   ]
  },
  {
   "cell_type": "code",
   "execution_count": null,
   "metadata": {},
   "outputs": [],
   "source": []
  },
  {
   "cell_type": "markdown",
   "metadata": {},
   "source": [
    "# Adding Alpha Beta Pruning5 points\n",
    "In this exercise, we are going to implement alpha beta pruning in our minimax function.\n",
    "\n",
    "To get started, changed the parameter list in the definition to include alpha and `beta`:\n",
    "\n",
    "```def minimax(player, depth, alpha, beta):```\n",
    "In all recursive calls to minimax, make sure to add `alpha` and `beta` as well.\n",
    "\n",
    "In order to get alpha beta pruning to work, alpha needs to be compared to the current score when **maximizing**, and beta needs to be compared to the current score when **minimizing**. If the score is greater than alpha, then the score should replace alpha, and if the score is less than beta, then the score should replace the value of beta.\n",
    "\n",
    "After `best` and `worst` have been evaluated, create an if statement comparing the value of alpha to beta. If alpha is **greater than** beta in both the maximizer and minimizer, then the program should `break`.\n",
    "\n",
    "**Important**: If you used a nested for loop to loop through available board spaces, the if statement should come after the *inner* for loop terminates:\n",
    "\n",
    "```for row in board:\n",
    "    for col in board:\n",
    "        //minimax\n",
    "    //if statement goes here\n",
    "```\n",
    "This ensures that the program will break at the appropriate time!\n",
    "\n",
    "Lastly, in your call to minimax in `take_turn`, make sure to set the value of `alpha` to -1000 and `beta` to 1000."
   ]
  },
  {
   "cell_type": "code",
   "execution_count": null,
   "metadata": {},
   "outputs": [],
   "source": [
    "#Copy your code from Adding Depth to Minimax here."
   ]
  }
 ],
 "metadata": {
  "language_info": {
   "name": "python"
  },
  "orig_nbformat": 4
 },
 "nbformat": 4,
 "nbformat_minor": 2
}
